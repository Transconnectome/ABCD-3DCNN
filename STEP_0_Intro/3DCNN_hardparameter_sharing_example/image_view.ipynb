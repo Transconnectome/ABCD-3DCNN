{
 "cells": [
  {
   "cell_type": "code",
   "execution_count": 231,
   "metadata": {},
   "outputs": [],
   "source": [
    "import os \n",
    "import glob \n",
    "import numpy as np\n",
    "import nibabel as nib\n",
    "import matplotlib.pyplot as plt \n",
    "from ipywidgets import interact, fixed \n"
   ]
  },
  {
   "attachments": {},
   "cell_type": "markdown",
   "metadata": {},
   "source": [
    "# View Atlas or Subject Image "
   ]
  },
  {
   "cell_type": "code",
   "execution_count": 232,
   "metadata": {},
   "outputs": [],
   "source": [
    "def sagittal_view(x, img): \n",
    "    plt.figure()\n",
    "    plt.imshow(img[x,:,:], cmap='gray')\n",
    "    plt.show()\n",
    "\n",
    "def horizontal_view(y, img): \n",
    "    plt.figure()\n",
    "    plt.imshow(img[:,y,:], cmap='gray')\n",
    "    plt.show()\n",
    "\n",
    "def coronal_view(z, img): \n",
    "    plt.figure()\n",
    "    plt.imshow(img[:,:,z], cmap='gray')\n",
    "    plt.show()"
   ]
  },
  {
   "cell_type": "code",
   "execution_count": 234,
   "metadata": {},
   "outputs": [
    {
     "data": {
      "application/vnd.jupyter.widget-view+json": {
       "model_id": "b888871dd5174dfe8e46e0d39a01722f",
       "version_major": 2,
       "version_minor": 0
      },
      "text/plain": [
       "interactive(children=(IntSlider(value=90, description='x', max=181), Output()), _dom_classes=('widget-interact…"
      ]
     },
     "metadata": {},
     "output_type": "display_data"
    },
    {
     "data": {
      "application/vnd.jupyter.widget-view+json": {
       "model_id": "d5ada3ea9b594707a69f59166a88def8",
       "version_major": 2,
       "version_minor": 0
      },
      "text/plain": [
       "interactive(children=(IntSlider(value=108, description='y', max=217), Output()), _dom_classes=('widget-interac…"
      ]
     },
     "metadata": {},
     "output_type": "display_data"
    },
    {
     "data": {
      "application/vnd.jupyter.widget-view+json": {
       "model_id": "287c3fb6423a43d98d78a9d6e0de34eb",
       "version_major": 2,
       "version_minor": 0
      },
      "text/plain": [
       "interactive(children=(IntSlider(value=90, description='z', max=181), Output()), _dom_classes=('widget-interact…"
      ]
     },
     "metadata": {},
     "output_type": "display_data"
    },
    {
     "data": {
      "text/plain": [
       "<function __main__.coronal_view(z, img)>"
      ]
     },
     "execution_count": 234,
     "metadata": {},
     "output_type": "execute_result"
    }
   ],
   "source": [
    "# load image \n",
    "img_dir = '/Users/apple/Desktop/3DCNN_hardparameter_sharing_example/sample/MNI152_T1_1mm_Brain.nii.gz'\n",
    "img = nib.load(img_dir)\n",
    "img = np.array(img.dataobj)\n",
    "# get the length of x, y, and z axis\n",
    "x, y, z = img.shape\n",
    "# view image \n",
    "interact(sagittal_view, x=(0,x-1), img=fixed(img))\n",
    "interact(horizontal_view, y=(0,y-1), img=fixed(img))\n",
    "interact(coronal_view, z=(0,z-1), img=fixed(img))\n"
   ]
  },
  {
   "attachments": {},
   "cell_type": "markdown",
   "metadata": {},
   "source": [
    "# Overlay Atlas Image and Subject XAI Map\n",
    "  \n",
    "XAI maps are obtained from models trained with augmented original image (i.e., resize).  \n",
    "Thus, resizing original image is necessary."
   ]
  },
  {
   "cell_type": "code",
   "execution_count": 235,
   "metadata": {},
   "outputs": [],
   "source": [
    "def sagittal_view(x, img, xai, low_threshold, high_threshold): \n",
    "    plt.figure()\n",
    "    plt.imshow(img[x,:,:], cmap='gray')\n",
    "    plt.imshow(xai[x,:,:], cmap='Reds', vmin=low_threshold, vmax=high_threshold, alpha=0.6)\n",
    "    plt.colorbar()\n",
    "    plt.show()\n",
    "\n",
    "def horizontal_view(y, img, xai, low_threshold, high_threshold): \n",
    "    plt.figure()\n",
    "    plt.imshow(img[:,y,:], cmap='gray')\n",
    "    plt.imshow(xai[:,y,:], cmap='Reds', vmin=low_threshold, vmax=high_threshold, alpha=0.6)\n",
    "    plt.colorbar()\n",
    "    plt.show()\n",
    "\n",
    "def coronal_view(z, img, xai, low_threshold, high_threshold): \n",
    "    plt.figure()\n",
    "    plt.imshow(img[:,:,z], cmap='gray')\n",
    "    plt.imshow(xai[:,:,z], cmap='Reds', vmin=low_threshold, vmax=high_threshold, alpha=0.6)\n",
    "    plt.colorbar()\n",
    "    plt.show()"
   ]
  },
  {
   "attachments": {},
   "cell_type": "markdown",
   "metadata": {},
   "source": [
    "## Visualize XAI map with min-max scaling"
   ]
  },
  {
   "cell_type": "code",
   "execution_count": 236,
   "metadata": {},
   "outputs": [
    {
     "data": {
      "application/vnd.jupyter.widget-view+json": {
       "model_id": "e9641a2dd2664d6682078c2bafbd5236",
       "version_major": 2,
       "version_minor": 0
      },
      "text/plain": [
       "interactive(children=(IntSlider(value=63, description='x', max=127), Output()), _dom_classes=('widget-interact…"
      ]
     },
     "metadata": {},
     "output_type": "display_data"
    },
    {
     "data": {
      "application/vnd.jupyter.widget-view+json": {
       "model_id": "54fe4bf715154881a9c2f9cd382989f3",
       "version_major": 2,
       "version_minor": 0
      },
      "text/plain": [
       "interactive(children=(IntSlider(value=63, description='y', max=127), Output()), _dom_classes=('widget-interact…"
      ]
     },
     "metadata": {},
     "output_type": "display_data"
    },
    {
     "data": {
      "application/vnd.jupyter.widget-view+json": {
       "model_id": "f30cfd304efb44a3b6791e9b3417a85b",
       "version_major": 2,
       "version_minor": 0
      },
      "text/plain": [
       "interactive(children=(IntSlider(value=63, description='z', max=127), Output()), _dom_classes=('widget-interact…"
      ]
     },
     "metadata": {},
     "output_type": "display_data"
    },
    {
     "data": {
      "text/plain": [
       "<function __main__.coronal_view(z, img, xai, low_threshold, high_threshold)>"
      ]
     },
     "execution_count": 236,
     "metadata": {},
     "output_type": "execute_result"
    }
   ],
   "source": [
    "# load image \n",
    "img_dir = '/Users/apple/Desktop/CNN_for_BMI/template_img/T1/MNI_6th_generation/MNI152_T1_1mm_Brain.nii.gz'\n",
    "img = nib.load(img_dir)\n",
    "img = np.array(img.dataobj)\n",
    "# load XAI map \n",
    "xai_dir = '/Users/apple/Desktop/CNN_for_BMI/paper/experiments/XAI/become_overweight/1year/partition0/NDARINV02RCED7D.npy'\n",
    "xai = np.load(xai_dir)\n",
    "\n",
    "# resizing image\n",
    "from monai.transforms import AddChannel, Compose, Resize\n",
    "img_size = (128, 128, 128)\n",
    "transform = Compose([AddChannel(), Resize(img_size)])\n",
    "img = np.squeeze(transform(img))\n",
    "xai = np.squeeze(transform(xai)) \n",
    "# min-max scaling XAI map for visualization\n",
    "xai = (xai - np.min(xai)) / (np.max(xai) - np.min(xai))\n",
    "\n",
    "# view image \n",
    "interact(sagittal_view, x=(0,img_size[0]-1), img=fixed(img), xai=fixed(xai), low_threshold=fixed(xai.min()), high_threshold=fixed(xai.max()))\n",
    "interact(horizontal_view, y=(0,img_size[1]-1), img=fixed(img), xai=fixed(xai), low_threshold=fixed(xai.min()), high_threshold=fixed(xai.max()))\n",
    "interact(coronal_view, z=(0,img_size[2]-1), img=fixed(img), xai=fixed(xai), low_threshold=fixed(xai.min()), high_threshold=fixed(xai.max()))\n"
   ]
  },
  {
   "cell_type": "code",
   "execution_count": 86,
   "metadata": {},
   "outputs": [
    {
     "data": {
      "text/plain": [
       "<matplotlib.collections.PathCollection at 0x7fa509688510>"
      ]
     },
     "execution_count": 86,
     "metadata": {},
     "output_type": "execute_result"
    },
    {
     "data": {
      "image/png": "[encoded data removed]",
      "text/plain": [
       "<Figure size 432x288 with 1 Axes>"
      ]
     },
     "metadata": {
      "needs_background": "light"
     },
     "output_type": "display_data"
    }
   ],
   "source": [
    "# check the distribution of attribution values of XAI map\n",
    "plt.scatter(x=[i for i in range(len(xai.flatten()))], y=xai.flatten())"
   ]
  },
  {
   "cell_type": "code",
   "execution_count": 104,
   "metadata": {},
   "outputs": [
    {
     "data": {
      "application/vnd.jupyter.widget-view+json": {
       "model_id": "9003962997f24be596c71f389a62d6fe",
       "version_major": 2,
       "version_minor": 0
      },
      "text/plain": [
       "interactive(children=(IntSlider(value=63, description='x', max=127), Output()), _dom_classes=('widget-interact…"
      ]
     },
     "metadata": {},
     "output_type": "display_data"
    },
    {
     "data": {
      "application/vnd.jupyter.widget-view+json": {
       "model_id": "ffcbcb6a37f7483dbd421659f597b546",
       "version_major": 2,
       "version_minor": 0
      },
      "text/plain": [
       "interactive(children=(IntSlider(value=63, description='y', max=127), Output()), _dom_classes=('widget-interact…"
      ]
     },
     "metadata": {},
     "output_type": "display_data"
    },
    {
     "data": {
      "application/vnd.jupyter.widget-view+json": {
       "model_id": "18d2d31342e64192941f99e92d668d24",
       "version_major": 2,
       "version_minor": 0
      },
      "text/plain": [
       "interactive(children=(IntSlider(value=63, description='z', max=127), Output()), _dom_classes=('widget-interact…"
      ]
     },
     "metadata": {},
     "output_type": "display_data"
    },
    {
     "data": {
      "text/plain": [
       "<function __main__.coronal_view(z, img, xai, low_threshold, high_threshold)>"
      ]
     },
     "execution_count": 104,
     "metadata": {},
     "output_type": "execute_result"
    }
   ],
   "source": [
    "# thresholding and visualize again\n",
    "interact(sagittal_view, x=(0,img_size[0]-1), img=fixed(img), xai=fixed(xai), low_threshold=fixed(xai.min()), high_threshold=fixed(xai.max()/10))\n",
    "interact(horizontal_view, y=(0,img_size[1]-1), img=fixed(img), xai=fixed(xai), low_threshold=fixed(xai.min()), high_threshold=fixed(xai.max()/10))\n",
    "interact(coronal_view, z=(0,img_size[2]-1), img=fixed(img), xai=fixed(xai), low_threshold=fixed(xai.min()), high_threshold=fixed(xai.max()/10))\n"
   ]
  },
  {
   "attachments": {},
   "cell_type": "markdown",
   "metadata": {},
   "source": [
    "## Visualize XAI map with standard scaling"
   ]
  },
  {
   "cell_type": "code",
   "execution_count": 110,
   "metadata": {},
   "outputs": [
    {
     "data": {
      "application/vnd.jupyter.widget-view+json": {
       "model_id": "35f4c57c305b407bbb9fcbc73c887f2c",
       "version_major": 2,
       "version_minor": 0
      },
      "text/plain": [
       "interactive(children=(IntSlider(value=63, description='x', max=127), Output()), _dom_classes=('widget-interact…"
      ]
     },
     "metadata": {},
     "output_type": "display_data"
    },
    {
     "data": {
      "application/vnd.jupyter.widget-view+json": {
       "model_id": "0c0b6db36f1f4c5abc423833b39f8895",
       "version_major": 2,
       "version_minor": 0
      },
      "text/plain": [
       "interactive(children=(IntSlider(value=63, description='y', max=127), Output()), _dom_classes=('widget-interact…"
      ]
     },
     "metadata": {},
     "output_type": "display_data"
    },
    {
     "data": {
      "application/vnd.jupyter.widget-view+json": {
       "model_id": "448bb54f94314d2d9b08109a55bbfdf2",
       "version_major": 2,
       "version_minor": 0
      },
      "text/plain": [
       "interactive(children=(IntSlider(value=63, description='z', max=127), Output()), _dom_classes=('widget-interact…"
      ]
     },
     "metadata": {},
     "output_type": "display_data"
    },
    {
     "data": {
      "text/plain": [
       "<function __main__.coronal_view(z, img, xai, low_threshold, high_threshold)>"
      ]
     },
     "execution_count": 110,
     "metadata": {},
     "output_type": "execute_result"
    }
   ],
   "source": [
    "# load image \n",
    "img_dir = '/Users/apple/Desktop/CNN_for_BMI/template_img/T1/MNI_6th_generation/MNI152_T1_1mm_Brain.nii.gz'\n",
    "img = nib.load(img_dir)\n",
    "img = np.array(img.dataobj)\n",
    "# load XAI map \n",
    "xai_dir = '/Users/apple/Desktop/CNN_for_BMI/paper/experiments/XAI/become_overweight/1year/partition0/NDARINV02RCED7D.npy'\n",
    "xai = np.load(xai_dir)\n",
    "\n",
    "# resizing image\n",
    "from monai.transforms import AddChannel, Compose, Resize\n",
    "img_size = (128, 128, 128)\n",
    "transform = Compose([AddChannel(), Resize(img_size)])\n",
    "img = np.squeeze(transform(img))\n",
    "# standard scaling XAI map for visualization\n",
    "xai = (xai - np.mean(xai)) / np.std(xai)\n",
    "\n",
    "# view image \n",
    "interact(sagittal_view, x=(0,img_size[0]-1), img=fixed(img), xai=fixed(xai), low_threshold=fixed(xai.min()), high_threshold=fixed(xai.max()))\n",
    "interact(horizontal_view, y=(0,img_size[1]-1), img=fixed(img), xai=fixed(xai), low_threshold=fixed(xai.min()), high_threshold=fixed(xai.max()))\n",
    "interact(coronal_view, z=(0,img_size[2]-1), img=fixed(img), xai=fixed(xai), low_threshold=fixed(xai.min()), high_threshold=fixed(xai.max()))\n"
   ]
  },
  {
   "cell_type": "code",
   "execution_count": 112,
   "metadata": {},
   "outputs": [
    {
     "data": {
      "text/plain": [
       "<matplotlib.collections.PathCollection at 0x7fa4a1658e10>"
      ]
     },
     "execution_count": 112,
     "metadata": {},
     "output_type": "execute_result"
    },
    {
     "data": {
      "image/png": "[encoded data removed]",
      "text/plain": [
       "<Figure size 432x288 with 1 Axes>"
      ]
     },
     "metadata": {
      "needs_background": "light"
     },
     "output_type": "display_data"
    }
   ],
   "source": [
    "# check the distribution of attribution values of XAI map\n",
    "plt.scatter(x=[i for i in range(len(xai.flatten()))], y=xai.flatten())"
   ]
  },
  {
   "cell_type": "code",
   "execution_count": 126,
   "metadata": {},
   "outputs": [
    {
     "data": {
      "application/vnd.jupyter.widget-view+json": {
       "model_id": "142728ba84e54ebda2d2703266de31d8",
       "version_major": 2,
       "version_minor": 0
      },
      "text/plain": [
       "interactive(children=(IntSlider(value=63, description='x', max=127), Output()), _dom_classes=('widget-interact…"
      ]
     },
     "metadata": {},
     "output_type": "display_data"
    },
    {
     "data": {
      "application/vnd.jupyter.widget-view+json": {
       "model_id": "810200781ea5409fb04c5c0db98944d3",
       "version_major": 2,
       "version_minor": 0
      },
      "text/plain": [
       "interactive(children=(IntSlider(value=63, description='y', max=127), Output()), _dom_classes=('widget-interact…"
      ]
     },
     "metadata": {},
     "output_type": "display_data"
    },
    {
     "data": {
      "application/vnd.jupyter.widget-view+json": {
       "model_id": "083ace9565674d5bb126317409be32ba",
       "version_major": 2,
       "version_minor": 0
      },
      "text/plain": [
       "interactive(children=(IntSlider(value=63, description='z', max=127), Output()), _dom_classes=('widget-interact…"
      ]
     },
     "metadata": {},
     "output_type": "display_data"
    },
    {
     "data": {
      "text/plain": [
       "<function __main__.coronal_view(z, img, xai, low_threshold, high_threshold)>"
      ]
     },
     "execution_count": 126,
     "metadata": {},
     "output_type": "execute_result"
    }
   ],
   "source": [
    "# thresholding and visualize again\n",
    "xai_threshold = xai.mean() + 2*xai.std() \n",
    "xai_filtered = np.where(xai >= xai_threshold, 1, 0)\n",
    "interact(sagittal_view, x=(0,img_size[0]-1), img=fixed(img), xai=fixed(xai_filtered), low_threshold=fixed(0), high_threshold=fixed(1))\n",
    "interact(horizontal_view, y=(0,img_size[1]-1), img=fixed(img), xai=fixed(xai_filtered), low_threshold=fixed(0), high_threshold=fixed(1))\n",
    "interact(coronal_view, z=(0,img_size[2]-1), img=fixed(img), xai=fixed(xai_filtered), low_threshold=fixed(0), high_threshold=fixed(1))\n"
   ]
  },
  {
   "attachments": {},
   "cell_type": "markdown",
   "metadata": {},
   "source": [
    "# Overlay Atlas Image and Group XAI Map\n",
    "  \n",
    "XAI maps are obtained from models trained with augmented original image (i.e., resize).  \n",
    "Thus, resizing original image is necessary."
   ]
  },
  {
   "cell_type": "code",
   "execution_count": 117,
   "metadata": {},
   "outputs": [],
   "source": [
    "def make_mean_xai(xai_files): \n",
    "    mean_xai = []\n",
    "    # load each subjects XAI map and concatenate\n",
    "    for xai in xai_files: \n",
    "        xai = np.load(xai)\n",
    "        xai = (xai - xai.mean()) / xai.std()    # subject-level standard scaling \n",
    "        xai = np.expand_dims(xai, axis=0)\n",
    "        mean_xai.append(xai)\n",
    "    mean_xai = np.concatenate(mean_xai, axis=0)\n",
    "    # getting group-wise mean value per each voxels\n",
    "    mean_xai = np.mean(mean_xai, axis=0, keepdims=True)\n",
    "    return np.squeeze(mean_xai, axis=0)"
   ]
  },
  {
   "cell_type": "code",
   "execution_count": 119,
   "metadata": {},
   "outputs": [],
   "source": [
    "## Visualize XAI map with standard scaling\n",
    "# load image \n",
    "img_dir = '/Users/apple/Desktop/CNN_for_BMI/template_img/T1/MNI_6th_generation/MNI152_T1_1mm_Brain.nii.gz'\n",
    "img = nib.load(img_dir)\n",
    "img = np.array(img.dataobj)\n",
    "# load XAI map \n",
    "xai_dir = '/Users/apple/Desktop/CNN_for_BMI/paper/experiments/XAI/become_overweight/1year/partition0'\n",
    "\n",
    "xai_files = glob.glob(os.path.join(xai_dir, '*'))\n",
    "mean_xai = make_mean_xai(xai_files=xai_files)\n",
    "\n",
    "# resizing image\n",
    "from monai.transforms import AddChannel, Compose, Resize\n",
    "img_size = (128, 128, 128)\n",
    "transform = Compose([AddChannel(), Resize(img_size)])\n",
    "img = np.squeeze(transform(img))\n",
    "\n"
   ]
  },
  {
   "cell_type": "code",
   "execution_count": 120,
   "metadata": {},
   "outputs": [
    {
     "data": {
      "application/vnd.jupyter.widget-view+json": {
       "model_id": "ff71a40e6f704c56bee24f1c8584c0cf",
       "version_major": 2,
       "version_minor": 0
      },
      "text/plain": [
       "interactive(children=(IntSlider(value=63, description='x', max=127), Output()), _dom_classes=('widget-interact…"
      ]
     },
     "metadata": {},
     "output_type": "display_data"
    },
    {
     "data": {
      "application/vnd.jupyter.widget-view+json": {
       "model_id": "aead1ec6e3fe42558ec150e0d2314a37",
       "version_major": 2,
       "version_minor": 0
      },
      "text/plain": [
       "interactive(children=(IntSlider(value=63, description='y', max=127), Output()), _dom_classes=('widget-interact…"
      ]
     },
     "metadata": {},
     "output_type": "display_data"
    },
    {
     "data": {
      "application/vnd.jupyter.widget-view+json": {
       "model_id": "fb9f2b6f1ae647b1ab39bc8e2c5de81e",
       "version_major": 2,
       "version_minor": 0
      },
      "text/plain": [
       "interactive(children=(IntSlider(value=63, description='z', max=127), Output()), _dom_classes=('widget-interact…"
      ]
     },
     "metadata": {},
     "output_type": "display_data"
    },
    {
     "data": {
      "text/plain": [
       "<function __main__.coronal_view(z, img, xai, low_threshold, high_threshold)>"
      ]
     },
     "execution_count": 120,
     "metadata": {},
     "output_type": "execute_result"
    }
   ],
   "source": [
    "# view image \n",
    "interact(sagittal_view, x=(0,img_size[0]-1), img=fixed(img), xai=fixed(mean_xai), low_threshold=fixed(mean_xai.min()), high_threshold=fixed(mean_xai.max()))\n",
    "interact(horizontal_view, y=(0,img_size[1]-1), img=fixed(img), xai=fixed(mean_xai), low_threshold=fixed(mean_xai.min()), high_threshold=fixed(mean_xai.max()))\n",
    "interact(coronal_view, z=(0,img_size[2]-1), img=fixed(img), xai=fixed(mean_xai), low_threshold=fixed(mean_xai.min()), high_threshold=fixed(mean_xai.max()))"
   ]
  },
  {
   "cell_type": "code",
   "execution_count": 122,
   "metadata": {},
   "outputs": [
    {
     "data": {
      "text/plain": [
       "<matplotlib.collections.PathCollection at 0x7fa4ede546d0>"
      ]
     },
     "execution_count": 122,
     "metadata": {},
     "output_type": "execute_result"
    },
    {
     "data": {
      "image/png": "[encoded data removed]",
      "text/plain": [
       "<Figure size 432x288 with 1 Axes>"
      ]
     },
     "metadata": {
      "needs_background": "light"
     },
     "output_type": "display_data"
    }
   ],
   "source": [
    "# check the distribution of attribution values of XAI map\n",
    "plt.scatter(x=[i for i in range(len(mean_xai.flatten()))], y=mean_xai.flatten())\n"
   ]
  },
  {
   "cell_type": "code",
   "execution_count": 125,
   "metadata": {},
   "outputs": [
    {
     "data": {
      "application/vnd.jupyter.widget-view+json": {
       "model_id": "870be8f297f3476b9a8d77722ae40658",
       "version_major": 2,
       "version_minor": 0
      },
      "text/plain": [
       "interactive(children=(IntSlider(value=63, description='x', max=127), Output()), _dom_classes=('widget-interact…"
      ]
     },
     "metadata": {},
     "output_type": "display_data"
    },
    {
     "data": {
      "application/vnd.jupyter.widget-view+json": {
       "model_id": "c7cfada4257949d690355d1354513827",
       "version_major": 2,
       "version_minor": 0
      },
      "text/plain": [
       "interactive(children=(IntSlider(value=63, description='y', max=127), Output()), _dom_classes=('widget-interact…"
      ]
     },
     "metadata": {},
     "output_type": "display_data"
    },
    {
     "data": {
      "application/vnd.jupyter.widget-view+json": {
       "model_id": "4cc7fffa507145c4a1e37173b99e81bf",
       "version_major": 2,
       "version_minor": 0
      },
      "text/plain": [
       "interactive(children=(IntSlider(value=63, description='z', max=127), Output()), _dom_classes=('widget-interact…"
      ]
     },
     "metadata": {},
     "output_type": "display_data"
    },
    {
     "data": {
      "text/plain": [
       "<function __main__.coronal_view(z, img, xai, low_threshold, high_threshold)>"
      ]
     },
     "execution_count": 125,
     "metadata": {},
     "output_type": "execute_result"
    }
   ],
   "source": [
    "# thresholding and visualize again\n",
    "mean_xai_threshold = mean_xai.mean() + 2*mean_xai.std() \n",
    "mean_xai_filtered = np.where(mean_xai >= mean_xai_threshold, 1, 0)\n",
    "interact(sagittal_view, x=(0,img_size[0]-1), img=fixed(img), xai=fixed(mean_xai_filtered), low_threshold=fixed(0), high_threshold=fixed(1))\n",
    "interact(horizontal_view, y=(0,img_size[1]-1), img=fixed(img), xai=fixed(mean_xai_filtered), low_threshold=fixed(0), high_threshold=fixed(1))\n",
    "interact(coronal_view, z=(0,img_size[2]-1), img=fixed(img), xai=fixed(mean_xai_filtered), low_threshold=fixed(0), high_threshold=fixed(1))"
   ]
  }
 ],
 "metadata": {
  "kernelspec": {
   "display_name": "Python 3",
   "language": "python",
   "name": "python3"
  },
  "language_info": {
   "codemirror_mode": {
    "name": "ipython",
    "version": 3
   },
   "file_extension": ".py",
   "mimetype": "text/x-python",
   "name": "python",
   "nbconvert_exporter": "python",
   "pygments_lexer": "ipython3",
   "version": "3.7.7"
  },
  "orig_nbformat": 4,
  "vscode": {
   "interpreter": {
    "hash": "d70d61462c70a310f2a3dc079129ecad30ab04264d85c88468f4f768ccc6ccb1"
   }
  }
 },
 "nbformat": 4,
 "nbformat_minor": 2
}
