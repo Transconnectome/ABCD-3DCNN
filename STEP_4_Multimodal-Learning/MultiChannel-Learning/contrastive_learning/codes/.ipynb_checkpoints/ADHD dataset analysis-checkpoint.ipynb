{
 "cells": [
  {
   "cell_type": "code",
   "execution_count": 27,
   "id": "1c63edd6",
   "metadata": {},
   "outputs": [],
   "source": [
    "import pandas as pd\n",
    "to=pd.read_csv(\"/scratch/connectome/3DCNN/data/1.ABCD/4.demo_qc/ABCD_phenotype_total.csv\")\n",
    "ad=pd.read_csv(\"/scratch/connectome/3DCNN/data/1.ABCD/4.demo_qc/ABCD_ADHD.csv\")\n",
    "con=pd.read_csv(\"/scratch/connectome/3DCNN/data/1.ABCD/4.demo_qc/ABCD_suicide_control.csv\")"
   ]
  },
  {
   "cell_type": "code",
   "execution_count": 28,
   "id": "cfc0c698",
   "metadata": {},
   "outputs": [
    {
     "data": {
      "text/plain": [
       "0       NDARINV00BD7VDC\n",
       "1       NDARINV00CY2MDM\n",
       "2       NDARINV00LJVZK2\n",
       "3       NDARINV00U4FTRU\n",
       "4       NDARINV0182J779\n",
       "             ...       \n",
       "2501    NDARINVZCGL10MP\n",
       "2502    NDARINVZE3C6X7E\n",
       "2503    NDARINVZEB043HN\n",
       "2504    NDARINVZEKA1L7D\n",
       "2505    NDARINVZER4ED76\n",
       "Name: subjectkey, Length: 2506, dtype: object"
      ]
     },
     "execution_count": 28,
     "metadata": {},
     "output_type": "execute_result"
    }
   ],
   "source": [
    "pd.read_csv(\"/scratch/connectome/3DCNN/data/1.ABCD/4.demo_qc/ABCD_ADHD.csv\").subjectkey"
   ]
  },
  {
   "cell_type": "code",
   "execution_count": 29,
   "id": "c7ef348e",
   "metadata": {},
   "outputs": [
    {
     "name": "stdout",
     "output_type": "stream",
     "text": [
      "(2506, 118) (3108, 45)\n"
     ]
    }
   ],
   "source": [
    "print(ad.shape,con.shape)"
   ]
  },
  {
   "cell_type": "code",
   "execution_count": 30,
   "id": "0f6583a4",
   "metadata": {},
   "outputs": [
    {
     "data": {
      "text/plain": [
       "0    NDARINV89B7M962\n",
       "1    NDARINV6ZU9NKBV\n",
       "2    NDARINVLPMG7ZFU\n",
       "Name: subjectkey, dtype: object"
      ]
     },
     "execution_count": 30,
     "metadata": {},
     "output_type": "execute_result"
    }
   ],
   "source": [
    "import glob\n",
    "images = glob.glob('/scratch/connectome/3DCNN/data/1.ABCD/3.2.FA_warpped_nii/*')\n",
    "images_subjectkeys=pd.Series(map(lambda x: x.split(\"/\")[-1].split(\".\")[0],images),name='subjectkey')\n",
    "images_subjectkeys[:3]"
   ]
  },
  {
   "cell_type": "code",
   "execution_count": 31,
   "id": "13d8cfa4",
   "metadata": {
    "scrolled": true
   },
   "outputs": [
    {
     "name": "stdout",
     "output_type": "stream",
     "text": [
      "Unspecified.Attention.Deficit.Hyperactivity.Disorder.x\n",
      "Attention.Deficit.Hyperactivity.Disorder.x\n"
     ]
    }
   ],
   "source": [
    "for c in con.columns:\n",
    "    if 'Attention' in c:print(c)"
   ]
  },
  {
   "cell_type": "code",
   "execution_count": 32,
   "id": "ad3272b4",
   "metadata": {
    "scrolled": false
   },
   "outputs": [],
   "source": [
    "sjk=pd.concat([ad.subjectkey,con.subjectkey]).reset_index(drop=True)"
   ]
  },
  {
   "cell_type": "code",
   "execution_count": 38,
   "id": "9559191b",
   "metadata": {},
   "outputs": [
    {
     "data": {
      "text/plain": [
       "0       NDARINV00BD7VDC\n",
       "1       NDARINV00CY2MDM\n",
       "2       NDARINV00LJVZK2\n",
       "3       NDARINV00U4FTRU\n",
       "4       NDARINV0182J779\n",
       "             ...       \n",
       "5609    NDARINVZXPAWB32\n",
       "5610    NDARINVZZ35KHXP\n",
       "5611    NDARINVZZ6ZJ2KY\n",
       "5612    NDARINVZZNX6W2P\n",
       "5613    NDARINVZZZP87KR\n",
       "Name: subjectkey, Length: 5614, dtype: object"
      ]
     },
     "execution_count": 38,
     "metadata": {},
     "output_type": "execute_result"
    }
   ],
   "source": [
    "sjk"
   ]
  },
  {
   "cell_type": "code",
   "execution_count": 33,
   "id": "ffc9a235",
   "metadata": {
    "scrolled": true
   },
   "outputs": [],
   "source": [
    "newdf=to[to.subjectkey.isin(sjk)==True]"
   ]
  },
  {
   "cell_type": "code",
   "execution_count": 34,
   "id": "989cb445",
   "metadata": {
    "scrolled": true
   },
   "outputs": [
    {
     "data": {
      "text/plain": [
       "True     3993\n",
       "False    1621\n",
       "Name: subjectkey, dtype: int64"
      ]
     },
     "execution_count": 34,
     "metadata": {},
     "output_type": "execute_result"
    }
   ],
   "source": [
    "newdf.subjectkey.isin(images_subjectkeys).value_counts()"
   ]
  },
  {
   "cell_type": "code",
   "execution_count": 35,
   "id": "7f6e4b5a",
   "metadata": {},
   "outputs": [
    {
     "data": {
      "text/plain": [
       "0    NDARINVBZJGG4AN\n",
       "1    NDARINVXPZGM0LG\n",
       "2    NDARINVU9C36KFY\n",
       "Name: subjectkey, dtype: object"
      ]
     },
     "execution_count": 35,
     "metadata": {},
     "output_type": "execute_result"
    }
   ],
   "source": [
    "images2 = glob.glob('/scratch/connectome/3DCNN/data/1.ABCD/2.sMRI_freesurfer/*')\n",
    "images_subjectkeys2=pd.Series(map(lambda x: x.split(\"/\")[-1].split(\".\")[0],images2),name='subjectkey')\n",
    "images_subjectkeys2[:3]"
   ]
  },
  {
   "cell_type": "code",
   "execution_count": 36,
   "id": "8916fe21",
   "metadata": {},
   "outputs": [
    {
     "data": {
      "text/plain": [
       "0.0    2255\n",
       "1.0    1736\n",
       "Name: Attention.Deficit.Hyperactivity.Disorder.x, dtype: int64"
      ]
     },
     "execution_count": 36,
     "metadata": {},
     "output_type": "execute_result"
    }
   ],
   "source": [
    "smris=newdf[newdf.subjectkey.isin(images_subjectkeys2)==True]\n",
    "swithd=smris[smris.subjectkey.isin(images_subjectkeys)==True]\n",
    "swithd['Attention.Deficit.Hyperactivity.Disorder.x'].value_counts()"
   ]
  },
  {
   "cell_type": "code",
   "execution_count": 41,
   "id": "d8cb626b",
   "metadata": {
    "scrolled": true
   },
   "outputs": [
    {
     "data": {
      "text/html": [
       "<div>\n",
       "<style scoped>\n",
       "    .dataframe tbody tr th:only-of-type {\n",
       "        vertical-align: middle;\n",
       "    }\n",
       "\n",
       "    .dataframe tbody tr th {\n",
       "        vertical-align: top;\n",
       "    }\n",
       "\n",
       "    .dataframe thead th {\n",
       "        text-align: right;\n",
       "    }\n",
       "</style>\n",
       "<table border=\"1\" class=\"dataframe\">\n",
       "  <thead>\n",
       "    <tr style=\"text-align: right;\">\n",
       "      <th></th>\n",
       "      <th>subjectkey</th>\n",
       "    </tr>\n",
       "  </thead>\n",
       "  <tbody>\n",
       "    <tr>\n",
       "      <th>0</th>\n",
       "      <td>NDARINV00BD7VDC</td>\n",
       "    </tr>\n",
       "    <tr>\n",
       "      <th>1</th>\n",
       "      <td>NDARINV00CY2MDM</td>\n",
       "    </tr>\n",
       "    <tr>\n",
       "      <th>2</th>\n",
       "      <td>NDARINV00LJVZK2</td>\n",
       "    </tr>\n",
       "    <tr>\n",
       "      <th>3</th>\n",
       "      <td>NDARINV00U4FTRU</td>\n",
       "    </tr>\n",
       "    <tr>\n",
       "      <th>4</th>\n",
       "      <td>NDARINV0182J779</td>\n",
       "    </tr>\n",
       "    <tr>\n",
       "      <th>...</th>\n",
       "      <td>...</td>\n",
       "    </tr>\n",
       "    <tr>\n",
       "      <th>2501</th>\n",
       "      <td>NDARINVZCGL10MP</td>\n",
       "    </tr>\n",
       "    <tr>\n",
       "      <th>2502</th>\n",
       "      <td>NDARINVZE3C6X7E</td>\n",
       "    </tr>\n",
       "    <tr>\n",
       "      <th>2503</th>\n",
       "      <td>NDARINVZEB043HN</td>\n",
       "    </tr>\n",
       "    <tr>\n",
       "      <th>2504</th>\n",
       "      <td>NDARINVZEKA1L7D</td>\n",
       "    </tr>\n",
       "    <tr>\n",
       "      <th>2505</th>\n",
       "      <td>NDARINVZER4ED76</td>\n",
       "    </tr>\n",
       "  </tbody>\n",
       "</table>\n",
       "<p>2506 rows × 1 columns</p>\n",
       "</div>"
      ],
      "text/plain": [
       "           subjectkey\n",
       "0     NDARINV00BD7VDC\n",
       "1     NDARINV00CY2MDM\n",
       "2     NDARINV00LJVZK2\n",
       "3     NDARINV00U4FTRU\n",
       "4     NDARINV0182J779\n",
       "...               ...\n",
       "2501  NDARINVZCGL10MP\n",
       "2502  NDARINVZE3C6X7E\n",
       "2503  NDARINVZEB043HN\n",
       "2504  NDARINVZEKA1L7D\n",
       "2505  NDARINVZER4ED76\n",
       "\n",
       "[2506 rows x 1 columns]"
      ]
     },
     "execution_count": 41,
     "metadata": {},
     "output_type": "execute_result"
    }
   ],
   "source": [
    "pd.merge(pd.merge(ad.subjectkey,to.subjectkey),newdf.subjectkey)"
   ]
  },
  {
   "cell_type": "code",
   "execution_count": null,
   "id": "4f4f688d",
   "metadata": {},
   "outputs": [],
   "source": []
  }
 ],
 "metadata": {
  "kernelspec": {
   "display_name": "Python 3 (ipykernel)",
   "language": "python",
   "name": "python3"
  },
  "language_info": {
   "codemirror_mode": {
    "name": "ipython",
    "version": 3
   },
   "file_extension": ".py",
   "mimetype": "text/x-python",
   "name": "python",
   "nbconvert_exporter": "python",
   "pygments_lexer": "ipython3",
   "version": "3.9.12"
  }
 },
 "nbformat": 4,
 "nbformat_minor": 5
}
