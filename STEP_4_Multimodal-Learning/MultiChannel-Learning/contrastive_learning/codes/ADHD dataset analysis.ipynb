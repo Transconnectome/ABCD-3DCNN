{
 "cells": [
  {
   "cell_type": "code",
   "execution_count": 27,
   "id": "1c63edd6",
   "metadata": {},
   "outputs": [],
   "source": [
    "import pandas as pd\n",
    "to=pd.read_csv(\"/scratch/connectome/3DCNN/data/1.ABCD/4.demo_qc/ABCD_phenotype_total.csv\")\n",
    "ad=pd.read_csv(\"/scratch/connectome/3DCNN/data/1.ABCD/4.demo_qc/ABCD_ADHD.csv\")\n",
    "con=pd.read_csv(\"/scratch/connectome/3DCNN/data/1.ABCD/4.demo_qc/ABCD_suicide_control.csv\")"
   ]
  },
  {
   "cell_type": "code",
   "execution_count": 28,
   "id": "674a958a",
   "metadata": {},
   "outputs": [
    {
     "data": {
      "text/plain": [
       "0       NDARINV00BD7VDC\n",
       "1       NDARINV00CY2MDM\n",
       "2       NDARINV00LJVZK2\n",
       "3       NDARINV00U4FTRU\n",
       "4       NDARINV0182J779\n",
       "             ...       \n",
       "2501    NDARINVZCGL10MP\n",
       "2502    NDARINVZE3C6X7E\n",
       "2503    NDARINVZEB043HN\n",
       "2504    NDARINVZEKA1L7D\n",
       "2505    NDARINVZER4ED76\n",
       "Name: subjectkey, Length: 2506, dtype: object"
      ]
     },
     "execution_count": 28,
     "metadata": {},
     "output_type": "execute_result"
    }
   ],
   "source": [
    "pd.read_csv(\"/scratch/connectome/3DCNN/data/1.ABCD/4.demo_qc/ABCD_ADHD.csv\").subjectkey"
   ]
  },
  {
   "cell_type": "code",
   "execution_count": 29,
   "id": "c7ef348e",
   "metadata": {},
   "outputs": [
    {
     "name": "stdout",
     "output_type": "stream",
     "text": [
      "(2506, 118) (3108, 45)\n"
     ]
    }
   ],
   "source": [
    "print(ad.shape,con.shape)"
   ]
  },
  {
   "cell_type": "code",
   "execution_count": 30,
   "id": "0f6583a4",
   "metadata": {},
   "outputs": [
    {
     "data": {
      "text/plain": [
       "0    NDARINV89B7M962\n",
       "1    NDARINV6ZU9NKBV\n",
       "2    NDARINVLPMG7ZFU\n",
       "Name: subjectkey, dtype: object"
      ]
     },
     "execution_count": 30,
     "metadata": {},
     "output_type": "execute_result"
    }
   ],
   "source": [
    "import glob\n",
    "images = glob.glob('/scratch/connectome/3DCNN/data/1.ABCD/3.2.FA_warpped_nii/*')\n",
    "images_subjectkeys=pd.Series(map(lambda x: x.split(\"/\")[-1].split(\".\")[0],images),name='subjectkey')\n",
    "images_subjectkeys[:3]"
   ]
  },
  {
   "cell_type": "code",
   "execution_count": 31,
   "id": "13d8cfa4",
   "metadata": {
    "scrolled": true
   },
   "outputs": [
    {
     "name": "stdout",
     "output_type": "stream",
     "text": [
      "Unspecified.Attention.Deficit.Hyperactivity.Disorder.x\n",
      "Attention.Deficit.Hyperactivity.Disorder.x\n"
     ]
    }
   ],
   "source": [
    "for c in con.columns:\n",
    "    if 'Attention' in c:print(c)"
   ]
  },
  {
   "cell_type": "code",
   "execution_count": 32,
   "id": "ad3272b4",
   "metadata": {
    "scrolled": false
   },
   "outputs": [],
   "source": [
    "sjk=pd.concat([ad.subjectkey,con.subjectkey]).reset_index(drop=True)"
   ]
  },
  {
   "cell_type": "code",
   "execution_count": 38,
   "id": "357b472d",
   "metadata": {},
   "outputs": [
    {
     "data": {
      "text/plain": [
       "0       NDARINV00BD7VDC\n",
       "1       NDARINV00CY2MDM\n",
       "2       NDARINV00LJVZK2\n",
       "3       NDARINV00U4FTRU\n",
       "4       NDARINV0182J779\n",
       "             ...       \n",
       "5609    NDARINVZXPAWB32\n",
       "5610    NDARINVZZ35KHXP\n",
       "5611    NDARINVZZ6ZJ2KY\n",
       "5612    NDARINVZZNX6W2P\n",
       "5613    NDARINVZZZP87KR\n",
       "Name: subjectkey, Length: 5614, dtype: object"
      ]
     },
     "execution_count": 38,
     "metadata": {},
     "output_type": "execute_result"
    }
   ],
   "source": [
    "sjk"
   ]
  },
  {
   "cell_type": "code",
   "execution_count": 33,
   "id": "ffc9a235",
   "metadata": {
    "scrolled": true
   },
   "outputs": [],
   "source": [
    "newdf=to[to.subjectkey.isin(sjk)==True]"
   ]
  },
  {
   "cell_type": "code",
   "execution_count": 34,
   "id": "989cb445",
   "metadata": {
    "scrolled": true
   },
   "outputs": [
    {
     "data": {
      "text/plain": [
       "True     3993\n",
       "False    1621\n",
       "Name: subjectkey, dtype: int64"
      ]
     },
     "execution_count": 34,
     "metadata": {},
     "output_type": "execute_result"
    }
   ],
   "source": [
    "newdf.subjectkey.isin(images_subjectkeys).value_counts()"
   ]
  },
  {
   "cell_type": "code",
   "execution_count": 35,
   "id": "7f6e4b5a",
   "metadata": {},
   "outputs": [
    {
     "data": {
      "text/plain": [
       "0    NDARINVBZJGG4AN\n",
       "1    NDARINVXPZGM0LG\n",
       "2    NDARINVU9C36KFY\n",
       "Name: subjectkey, dtype: object"
      ]
     },
     "execution_count": 35,
     "metadata": {},
     "output_type": "execute_result"
    }
   ],
   "source": [
    "images2 = glob.glob('/scratch/connectome/3DCNN/data/1.ABCD/2.sMRI_freesurfer/*')\n",
    "images_subjectkeys2=pd.Series(map(lambda x: x.split(\"/\")[-1].split(\".\")[0],images2),name='subjectkey')\n",
    "images_subjectkeys2[:3]"
   ]
  },
  {
   "cell_type": "code",
   "execution_count": 36,
   "id": "8916fe21",
   "metadata": {},
   "outputs": [
    {
     "data": {
      "text/plain": [
       "0.0    2255\n",
       "1.0    1736\n",
       "Name: Attention.Deficit.Hyperactivity.Disorder.x, dtype: int64"
      ]
     },
     "execution_count": 36,
     "metadata": {},
     "output_type": "execute_result"
    }
   ],
   "source": [
    "smris=newdf[newdf.subjectkey.isin(images_subjectkeys2)==True]\n",
    "swithd=smris[smris.subjectkey.isin(images_subjectkeys)==True]\n",
    "swithd['Attention.Deficit.Hyperactivity.Disorder.x'].value_counts()"
   ]
  },
  {
   "cell_type": "code",
   "execution_count": 41,
   "id": "d8cb626b",
   "metadata": {
    "scrolled": false
   },
   "outputs": [
    {
     "data": {
      "text/html": [
       "<div>\n",
       "<style scoped>\n",
       "    .dataframe tbody tr th:only-of-type {\n",
       "        vertical-align: middle;\n",
       "    }\n",
       "\n",
       "    .dataframe tbody tr th {\n",
       "        vertical-align: top;\n",
       "    }\n",
       "\n",
       "    .dataframe thead th {\n",
       "        text-align: right;\n",
       "    }\n",
       "</style>\n",
       "<table border=\"1\" class=\"dataframe\">\n",
       "  <thead>\n",
       "    <tr style=\"text-align: right;\">\n",
       "      <th></th>\n",
       "      <th>subjectkey</th>\n",
       "    </tr>\n",
       "  </thead>\n",
       "  <tbody>\n",
       "    <tr>\n",
       "      <th>0</th>\n",
       "      <td>NDARINV00BD7VDC</td>\n",
       "    </tr>\n",
       "    <tr>\n",
       "      <th>1</th>\n",
       "      <td>NDARINV00CY2MDM</td>\n",
       "    </tr>\n",
       "    <tr>\n",
       "      <th>2</th>\n",
       "      <td>NDARINV00LJVZK2</td>\n",
       "    </tr>\n",
       "    <tr>\n",
       "      <th>3</th>\n",
       "      <td>NDARINV00U4FTRU</td>\n",
       "    </tr>\n",
       "    <tr>\n",
       "      <th>4</th>\n",
       "      <td>NDARINV0182J779</td>\n",
       "    </tr>\n",
       "    <tr>\n",
       "      <th>...</th>\n",
       "      <td>...</td>\n",
       "    </tr>\n",
       "    <tr>\n",
       "      <th>2501</th>\n",
       "      <td>NDARINVZCGL10MP</td>\n",
       "    </tr>\n",
       "    <tr>\n",
       "      <th>2502</th>\n",
       "      <td>NDARINVZE3C6X7E</td>\n",
       "    </tr>\n",
       "    <tr>\n",
       "      <th>2503</th>\n",
       "      <td>NDARINVZEB043HN</td>\n",
       "    </tr>\n",
       "    <tr>\n",
       "      <th>2504</th>\n",
       "      <td>NDARINVZEKA1L7D</td>\n",
       "    </tr>\n",
       "    <tr>\n",
       "      <th>2505</th>\n",
       "      <td>NDARINVZER4ED76</td>\n",
       "    </tr>\n",
       "  </tbody>\n",
       "</table>\n",
       "<p>2506 rows × 1 columns</p>\n",
       "</div>"
      ],
      "text/plain": [
       "           subjectkey\n",
       "0     NDARINV00BD7VDC\n",
       "1     NDARINV00CY2MDM\n",
       "2     NDARINV00LJVZK2\n",
       "3     NDARINV00U4FTRU\n",
       "4     NDARINV0182J779\n",
       "...               ...\n",
       "2501  NDARINVZCGL10MP\n",
       "2502  NDARINVZE3C6X7E\n",
       "2503  NDARINVZEB043HN\n",
       "2504  NDARINVZEKA1L7D\n",
       "2505  NDARINVZER4ED76\n",
       "\n",
       "[2506 rows x 1 columns]"
      ]
     },
     "execution_count": 41,
     "metadata": {},
     "output_type": "execute_result"
    }
   ],
   "source": [
    "pd.merge(pd.merge(ad.subjectkey,to.subjectkey),newdf.subjectkey)"
   ]
  },
  {
   "cell_type": "code",
   "execution_count": null,
   "id": "c2b867a6",
   "metadata": {},
   "outputs": [],
   "source": []
  },
  {
   "cell_type": "code",
   "execution_count": 57,
   "id": "555ba4c0",
   "metadata": {
    "scrolled": true
   },
   "outputs": [
    {
     "name": "stdout",
     "output_type": "stream",
     "text": [
      "['/scratch/connectome/3DCNN/data/1.ABCD/2.sMRI_freesurfer/NDARINVBZJGG4AN.npy', '/scratch/connectome/3DCNN/data/1.ABCD/2.sMRI_freesurfer/NDARINVXPZGM0LG.npy', '/scratch/connectome/3DCNN/data/1.ABCD/2.sMRI_freesurfer/NDARINVU9C36KFY.npy']\n",
      "0    NDARINVBZJGG4AN\n",
      "1    NDARINVXPZGM0LG\n",
      "2    NDARINVU9C36KFY\n",
      "Name: subjectkey, dtype: object\n",
      "        subjectkey\n",
      "0  NDARINV00BD7VDC\n",
      "1  NDARINV00CY2MDM\n",
      "2  NDARINV00LJVZK2\n",
      "['/scratch/connectome/3DCNN/data/1.ABCD/3.4.MD_warpped_nii/NDARINV89B7M962.nii.gz', '/scratch/connectome/3DCNN/data/1.ABCD/3.4.MD_warpped_nii/NDARINV6ZU9NKBV.nii.gz', '/scratch/connectome/3DCNN/data/1.ABCD/3.4.MD_warpped_nii/NDARINVLPMG7ZFU.nii.gz']\n",
      "0    NDARINV89B7M962\n",
      "1    NDARINV6ZU9NKBV\n",
      "2    NDARINVLPMG7ZFU\n",
      "Name: subjectkey, dtype: object\n",
      "        subjectkey\n",
      "0  NDARINV00BD7VDC\n",
      "1  NDARINV00CY2MDM\n",
      "2  NDARINV00LJVZK2\n"
     ]
    },
    {
     "data": {
      "text/html": [
       "<div>\n",
       "<style scoped>\n",
       "    .dataframe tbody tr th:only-of-type {\n",
       "        vertical-align: middle;\n",
       "    }\n",
       "\n",
       "    .dataframe tbody tr th {\n",
       "        vertical-align: top;\n",
       "    }\n",
       "\n",
       "    .dataframe thead th {\n",
       "        text-align: right;\n",
       "    }\n",
       "</style>\n",
       "<table border=\"1\" class=\"dataframe\">\n",
       "  <thead>\n",
       "    <tr style=\"text-align: right;\">\n",
       "      <th></th>\n",
       "      <th>Attention.Deficit.Hyperactivity.Disorder.x</th>\n",
       "      <th>subjectkey</th>\n",
       "    </tr>\n",
       "  </thead>\n",
       "  <tbody>\n",
       "    <tr>\n",
       "      <th>3</th>\n",
       "      <td>1.0</td>\n",
       "      <td>NDARINV00BD7VDC</td>\n",
       "    </tr>\n",
       "    <tr>\n",
       "      <th>4</th>\n",
       "      <td>1.0</td>\n",
       "      <td>NDARINV00CY2MDM</td>\n",
       "    </tr>\n",
       "    <tr>\n",
       "      <th>8</th>\n",
       "      <td>1.0</td>\n",
       "      <td>NDARINV00LJVZK2</td>\n",
       "    </tr>\n",
       "    <tr>\n",
       "      <th>11</th>\n",
       "      <td>1.0</td>\n",
       "      <td>NDARINV00U4FTRU</td>\n",
       "    </tr>\n",
       "    <tr>\n",
       "      <th>15</th>\n",
       "      <td>0.0</td>\n",
       "      <td>NDARINV014RTM1V</td>\n",
       "    </tr>\n",
       "    <tr>\n",
       "      <th>...</th>\n",
       "      <td>...</td>\n",
       "      <td>...</td>\n",
       "    </tr>\n",
       "    <tr>\n",
       "      <th>10138</th>\n",
       "      <td>0.0</td>\n",
       "      <td>NDARINVV5MHL75K</td>\n",
       "    </tr>\n",
       "    <tr>\n",
       "      <th>10142</th>\n",
       "      <td>1.0</td>\n",
       "      <td>NDARINVV5XX9GEF</td>\n",
       "    </tr>\n",
       "    <tr>\n",
       "      <th>10148</th>\n",
       "      <td>0.0</td>\n",
       "      <td>NDARINVV6KFJX12</td>\n",
       "    </tr>\n",
       "    <tr>\n",
       "      <th>10150</th>\n",
       "      <td>1.0</td>\n",
       "      <td>NDARINVV6MZ4VB1</td>\n",
       "    </tr>\n",
       "    <tr>\n",
       "      <th>10151</th>\n",
       "      <td>0.0</td>\n",
       "      <td>NDARINVV6NAXTR2</td>\n",
       "    </tr>\n",
       "  </tbody>\n",
       "</table>\n",
       "<p>3991 rows × 2 columns</p>\n",
       "</div>"
      ],
      "text/plain": [
       "       Attention.Deficit.Hyperactivity.Disorder.x       subjectkey\n",
       "3                                             1.0  NDARINV00BD7VDC\n",
       "4                                             1.0  NDARINV00CY2MDM\n",
       "8                                             1.0  NDARINV00LJVZK2\n",
       "11                                            1.0  NDARINV00U4FTRU\n",
       "15                                            0.0  NDARINV014RTM1V\n",
       "...                                           ...              ...\n",
       "10138                                         0.0  NDARINVV5MHL75K\n",
       "10142                                         1.0  NDARINVV5XX9GEF\n",
       "10148                                         0.0  NDARINVV6KFJX12\n",
       "10150                                         1.0  NDARINVV6MZ4VB1\n",
       "10151                                         0.0  NDARINVV6NAXTR2\n",
       "\n",
       "[3991 rows x 2 columns]"
      ]
     },
     "execution_count": 57,
     "metadata": {},
     "output_type": "execute_result"
    }
   ],
   "source": [
    "# revising\n",
    "ABCD_data_dir = {\n",
    "    'fmriprep':'/scratch/connectome/3DCNN/data/1.ABCD/1.sMRI_fmriprep/preprocessed_masked/',\n",
    "    'freesurfer':'/scratch/connectome/3DCNN/data/1.ABCD/2.sMRI_freesurfer/',\n",
    "    'FA_unwarpped_nii':'/scratch/connectome/3DCNN/data/1.ABCD/3.1.FA_unwarpped_nii/',\n",
    "    'FA_warpped_nii':'/scratch/connectome/3DCNN/data/1.ABCD/3.2.FA_warpped_nii/',\n",
    "    'MD_unwarpped_nii':'/scratch/connectome/3DCNN/data/1.ABCD/3.3.MD_unwarpped_nii/',\n",
    "    'MD_warpped_nii':'/scratch/connectome/3DCNN/data/1.ABCD/3.4.MD_warpped_nii/',\n",
    "    'RD_unwarpped_nii':'/scratch/connectome/3DCNN/data/1.ABCD/3.5.RD_unwarpped_nii/',\n",
    "    'RD_warpped_nii':'/scratch/connectome/3DCNN/data/1.ABCD/3.6.RD_warpped_nii/'\n",
    "}\n",
    "\n",
    "ABCD_phenotype_dir = {\n",
    "    'total':'/scratch/connectome/3DCNN/data/1.ABCD/4.demo_qc/ABCD_phenotype_total.csv',\n",
    "    'ADHD_case':'/scratch/connectome/3DCNN/data/1.ABCD/4.demo_qc/ABCD_ADHD.csv',\n",
    "    'suicide_case':'/scratch/connectome/3DCNN/data/1.ABCD/4.demo_qc/ABCD_suicide_case.csv',\n",
    "    'suicide_control':'/scratch/connectome/3DCNN/data/1.ABCD/4.demo_qc/ABCD_suicide_control.csv'\n",
    "}\n",
    "\n",
    "\n",
    "    \n",
    "\n",
    "\n",
    "col_list = ['Attention.Deficit.Hyperactivity.Disorder.x','subjectkey']\n",
    "dtypes = ['freesurfer','MD_warpped_nii']\n",
    "### get subject ID and target variables\n",
    "subject_data = pd.read_csv(ABCD_phenotype_dir['total'])\n",
    "subject_data = subject_data.loc[:,col_list]\n",
    "\n",
    "case  = pd.read_csv(ABCD_phenotype_dir['ADHD_case']).subjectkey\n",
    "control = pd.read_csv(ABCD_phenotype_dir['suicide_control']).subjectkey\n",
    "filtered_subjectkey = pd.concat([case,control]).reset_index(drop=True)\n",
    "for data_type in dtypes:\n",
    "    data_files = glob.glob(ABCD_data_dir[data_type]+'*')\n",
    "    print(data_files[:3])\n",
    "    data_subjectkey = pd.Series(map(lambda x: x.split(\"/\")[-1].split(\".\")[0],data_files),name='subjectkey')\n",
    "    print(data_subjectkey[:3])\n",
    "    filtered_subjectkey = pd.merge(filtered_subjectkey,data_subjectkey)\n",
    "    print(filtered_subjectkey[:3])    \n",
    "\n",
    "subject_data[subject_data.subjectkey.isin(filtered_subjectkey.subjectkey)==True]\n",
    "\n",
    "# subject_data = subject_data.sort_values(by='subjectkey')\n",
    "# subject_data = subject_data.dropna(axis = 0)\n",
    "# subject_data = subject_data.reset_index(drop=True)"
   ]
  },
  {
   "cell_type": "code",
   "execution_count": 56,
   "id": "cbcecebd",
   "metadata": {},
   "outputs": [
    {
     "data": {
      "text/html": [
       "<div>\n",
       "<style scoped>\n",
       "    .dataframe tbody tr th:only-of-type {\n",
       "        vertical-align: middle;\n",
       "    }\n",
       "\n",
       "    .dataframe tbody tr th {\n",
       "        vertical-align: top;\n",
       "    }\n",
       "\n",
       "    .dataframe thead th {\n",
       "        text-align: right;\n",
       "    }\n",
       "</style>\n",
       "<table border=\"1\" class=\"dataframe\">\n",
       "  <thead>\n",
       "    <tr style=\"text-align: right;\">\n",
       "      <th></th>\n",
       "      <th>subjectkey</th>\n",
       "    </tr>\n",
       "  </thead>\n",
       "  <tbody>\n",
       "    <tr>\n",
       "      <th>0</th>\n",
       "      <td>NDARINV00BD7VDC</td>\n",
       "    </tr>\n",
       "    <tr>\n",
       "      <th>1</th>\n",
       "      <td>NDARINV00CY2MDM</td>\n",
       "    </tr>\n",
       "    <tr>\n",
       "      <th>2</th>\n",
       "      <td>NDARINV00LJVZK2</td>\n",
       "    </tr>\n",
       "    <tr>\n",
       "      <th>3</th>\n",
       "      <td>NDARINV00U4FTRU</td>\n",
       "    </tr>\n",
       "    <tr>\n",
       "      <th>4</th>\n",
       "      <td>NDARINV0182J779</td>\n",
       "    </tr>\n",
       "    <tr>\n",
       "      <th>...</th>\n",
       "      <td>...</td>\n",
       "    </tr>\n",
       "    <tr>\n",
       "      <th>3986</th>\n",
       "      <td>NDARINVV54EMBM7</td>\n",
       "    </tr>\n",
       "    <tr>\n",
       "      <th>3987</th>\n",
       "      <td>NDARINVV56VCMTJ</td>\n",
       "    </tr>\n",
       "    <tr>\n",
       "      <th>3988</th>\n",
       "      <td>NDARINVV5MHL75K</td>\n",
       "    </tr>\n",
       "    <tr>\n",
       "      <th>3989</th>\n",
       "      <td>NDARINVV6KFJX12</td>\n",
       "    </tr>\n",
       "    <tr>\n",
       "      <th>3990</th>\n",
       "      <td>NDARINVV6NAXTR2</td>\n",
       "    </tr>\n",
       "  </tbody>\n",
       "</table>\n",
       "<p>3991 rows × 1 columns</p>\n",
       "</div>"
      ],
      "text/plain": [
       "           subjectkey\n",
       "0     NDARINV00BD7VDC\n",
       "1     NDARINV00CY2MDM\n",
       "2     NDARINV00LJVZK2\n",
       "3     NDARINV00U4FTRU\n",
       "4     NDARINV0182J779\n",
       "...               ...\n",
       "3986  NDARINVV54EMBM7\n",
       "3987  NDARINVV56VCMTJ\n",
       "3988  NDARINVV5MHL75K\n",
       "3989  NDARINVV6KFJX12\n",
       "3990  NDARINVV6NAXTR2\n",
       "\n",
       "[3991 rows x 1 columns]"
      ]
     },
     "execution_count": 56,
     "metadata": {},
     "output_type": "execute_result"
    }
   ],
   "source": [
    "filtered_subjectkey"
   ]
  },
  {
   "cell_type": "code",
   "execution_count": 55,
   "id": "6130ee66",
   "metadata": {},
   "outputs": [
    {
     "data": {
      "text/html": [
       "<div>\n",
       "<style scoped>\n",
       "    .dataframe tbody tr th:only-of-type {\n",
       "        vertical-align: middle;\n",
       "    }\n",
       "\n",
       "    .dataframe tbody tr th {\n",
       "        vertical-align: top;\n",
       "    }\n",
       "\n",
       "    .dataframe thead th {\n",
       "        text-align: right;\n",
       "    }\n",
       "</style>\n",
       "<table border=\"1\" class=\"dataframe\">\n",
       "  <thead>\n",
       "    <tr style=\"text-align: right;\">\n",
       "      <th></th>\n",
       "      <th>Attention.Deficit.Hyperactivity.Disorder.x</th>\n",
       "      <th>subjectkey</th>\n",
       "    </tr>\n",
       "  </thead>\n",
       "  <tbody>\n",
       "    <tr>\n",
       "      <th>0</th>\n",
       "      <td>0.0</td>\n",
       "      <td>NDARINV003RTV85</td>\n",
       "    </tr>\n",
       "    <tr>\n",
       "      <th>1</th>\n",
       "      <td>0.0</td>\n",
       "      <td>NDARINV005V6D2C</td>\n",
       "    </tr>\n",
       "    <tr>\n",
       "      <th>2</th>\n",
       "      <td>0.0</td>\n",
       "      <td>NDARINV007W6H7B</td>\n",
       "    </tr>\n",
       "    <tr>\n",
       "      <th>3</th>\n",
       "      <td>1.0</td>\n",
       "      <td>NDARINV00BD7VDC</td>\n",
       "    </tr>\n",
       "    <tr>\n",
       "      <th>4</th>\n",
       "      <td>1.0</td>\n",
       "      <td>NDARINV00CY2MDM</td>\n",
       "    </tr>\n",
       "    <tr>\n",
       "      <th>...</th>\n",
       "      <td>...</td>\n",
       "      <td>...</td>\n",
       "    </tr>\n",
       "    <tr>\n",
       "      <th>11870</th>\n",
       "      <td>0.0</td>\n",
       "      <td>NDARINVZZNX6W2P</td>\n",
       "    </tr>\n",
       "    <tr>\n",
       "      <th>11871</th>\n",
       "      <td>0.0</td>\n",
       "      <td>NDARINVZZPKBDAC</td>\n",
       "    </tr>\n",
       "    <tr>\n",
       "      <th>11872</th>\n",
       "      <td>1.0</td>\n",
       "      <td>NDARINVZZZ2ALR6</td>\n",
       "    </tr>\n",
       "    <tr>\n",
       "      <th>11873</th>\n",
       "      <td>1.0</td>\n",
       "      <td>NDARINVZZZNB0XC</td>\n",
       "    </tr>\n",
       "    <tr>\n",
       "      <th>11874</th>\n",
       "      <td>0.0</td>\n",
       "      <td>NDARINVZZZP87KR</td>\n",
       "    </tr>\n",
       "  </tbody>\n",
       "</table>\n",
       "<p>11875 rows × 2 columns</p>\n",
       "</div>"
      ],
      "text/plain": [
       "       Attention.Deficit.Hyperactivity.Disorder.x       subjectkey\n",
       "0                                             0.0  NDARINV003RTV85\n",
       "1                                             0.0  NDARINV005V6D2C\n",
       "2                                             0.0  NDARINV007W6H7B\n",
       "3                                             1.0  NDARINV00BD7VDC\n",
       "4                                             1.0  NDARINV00CY2MDM\n",
       "...                                           ...              ...\n",
       "11870                                         0.0  NDARINVZZNX6W2P\n",
       "11871                                         0.0  NDARINVZZPKBDAC\n",
       "11872                                         1.0  NDARINVZZZ2ALR6\n",
       "11873                                         1.0  NDARINVZZZNB0XC\n",
       "11874                                         0.0  NDARINVZZZP87KR\n",
       "\n",
       "[11875 rows x 2 columns]"
      ]
     },
     "execution_count": 55,
     "metadata": {},
     "output_type": "execute_result"
    }
   ],
   "source": [
    "subject_data"
   ]
  }
 ],
 "metadata": {
  "kernelspec": {
   "display_name": "Python 3 (ipykernel)",
   "language": "python",
   "name": "python3"
  },
  "language_info": {
   "codemirror_mode": {
    "name": "ipython",
    "version": 3
   },
   "file_extension": ".py",
   "mimetype": "text/x-python",
   "name": "python",
   "nbconvert_exporter": "python",
   "pygments_lexer": "ipython3",
   "version": "3.9.12"
  }
 },
 "nbformat": 4,
 "nbformat_minor": 5
}
