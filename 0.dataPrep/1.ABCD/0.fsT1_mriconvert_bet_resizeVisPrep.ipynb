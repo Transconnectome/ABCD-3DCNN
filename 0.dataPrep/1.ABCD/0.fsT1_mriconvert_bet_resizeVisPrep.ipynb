{
 "cells": [
  {
   "cell_type": "markdown",
   "id": "6ca10c40",
   "metadata": {},
   "source": [
    "# install & load modules"
   ]
  },
  {
   "cell_type": "code",
   "execution_count": null,
   "id": "094823ec",
   "metadata": {
    "scrolled": false
   },
   "outputs": [],
   "source": [
    "### install module\n",
    "#!pip install nibabel\n",
    "#!pip3 install numpy\n",
    "#!pip3 install ipdb\n",
    "#!pip3 install nilearn\n",
    "#!pip3 install scikit-image\n",
    "#!pip install matplotlib\n",
    "\n",
    "### do not need to install for this code\n",
    "#!pip3 install torch\n",
    "#!pip3 install monai"
   ]
  },
  {
   "cell_type": "code",
   "execution_count": null,
   "id": "c0996e83",
   "metadata": {},
   "outputs": [],
   "source": [
    "### load module\n",
    "import nibabel as nib\n",
    "import numpy as np\n",
    "import ipdb\n",
    "from ipdb import set_trace\n",
    "\n",
    "import re #regular expression\n",
    "import os\n",
    "import csv\n",
    "from nilearn import plotting\n",
    "from skimage.transform import resize\n",
    "#import torch\n",
    "#from monai.transforms import ScaleIntensity"
   ]
  },
  {
   "cell_type": "markdown",
   "id": "492b1251",
   "metadata": {},
   "source": [
    "# main code"
   ]
  },
  {
   "cell_type": "code",
   "execution_count": null,
   "id": "9fee29e1",
   "metadata": {},
   "outputs": [],
   "source": [
    "### try to environment setting\n",
    "#os.environ['FREESURFER_HOME']='usr/local/freesurfer/7.2.0'\n",
    "\n",
    "#subprocess.call('/bin/bash -c \"$GREPDB\"', shell=True, env={'GREPDB':'$FREESURFER_HOME/SetUpFreeSurfer.sh'})\n",
    "#os.environ['FREESURFER_HOME']\n",
    "#!/bin/bash -c 'source /usr/local/freesurfer/7.2.0/SetUpFreeSurfer.sh'\n",
    "#cd /usr/local/freesurfer/7.2.0"
   ]
  },
  {
   "cell_type": "code",
   "execution_count": null,
   "id": "be379afc",
   "metadata": {},
   "outputs": [],
   "source": [
    "arr = range(0, 64, 64 // 15)\n",
    "ratio_map = {}\n",
    "count = [0]\n",
    "padding = 10\n",
    "\n",
    "# main function\n",
    "def dive(root): \n",
    "    for f in os.listdir(root):\n",
    "        path = f'{root}/{f}'\n",
    "        \n",
    "        # ends with \".mgz\" or \".nii\"\n",
    "        if f.endswith('T1.mgz'):\n",
    "            # (1) mri_convert\n",
    "            nii_path=mriconvert(root, f) \n",
    "            \n",
    "            break\n",
    "            \n",
    "            # (2) skull-stripping\n",
    "            f_brain = bet(nii_path,root,f)\n",
    "            \n",
    "            # (3) cut unnecessary part\n",
    "            clean_space(root, f_brain) #load clean space function\n",
    "            \n",
    "            # (4) show image\n",
    "            path = f'{root}/{f_brain}'\n",
    "            img = nib.load(path)\n",
    "            np_img = np.array(img.get_fdata())\n",
    "            data = resize(np_img, (64, 64, 64), mode='constant')\n",
    "            \n",
    "            #Min-max scaling\n",
    "            #transform = ScaleIntensity(minv=-1.0, maxv=1.0) #[-1,1] MinMax scaler\n",
    "            #data = transform(data)\n",
    "            \n",
    "            data_nii = nib.Nifti1Image(data, np.eye(4))\n",
    "            \n",
    "            plotting.plot_img(data_nii,cut_coords=arr,draw_cross=False,annotate=False,black_bg=True,display_mode='x')\n",
    "            plotting.plot_img(data_nii,cut_coords=arr,draw_cross=False,annotate=False,black_bg=True,display_mode='y')\n",
    "            plotting.plot_img(data_nii,cut_coords=arr,draw_cross=False,annotate=False,black_bg=True,display_mode='z')\n",
    "            plotting.show()\n",
    "            \n",
    "\n",
    "            \n",
    "            count[0] += 1\n",
    "            print(f'count: {count[0]} processed: {root}/{f}')\n",
    "        \n",
    "        # ends with \".npy\"\n",
    "        if f.endswith('.npy'):\n",
    "            \n",
    "            #cut unnecessary part\n",
    "            clean_space(root, f) #load clean space function\n",
    "            \n",
    "            # show image (cz .npy is already np array -> you don't need to run np.array())\n",
    "            np_img = np.load(path)\n",
    "            data = resize(np_img, (64, 64, 64), mode='constant') #resize the image\n",
    "\n",
    "            #Min-max scaling\n",
    "            # scaling code does not work -> exclude min-max scaling\n",
    "            #transform = ScaleIntensity(minv=-1.0, maxv=1.0) #[-1,1] MinMax scaler\n",
    "            #data = transform(data)\n",
    "\n",
    "            data_nii = nib.Nifti1Image(data, np.eye(4))\n",
    "            \n",
    "            plotting.plot_img(data_nii,cut_coords=arr,draw_cross=False,annotate=False,black_bg=True,display_mode='x')\n",
    "            plotting.plot_img(data_nii,cut_coords=arr,draw_cross=False,annotate=False,black_bg=True,display_mode='y')\n",
    "            plotting.plot_img(data_nii,cut_coords=arr,draw_cross=False,annotate=False,black_bg=True,display_mode='z')\n",
    "            plotting.show()\n",
    "            \n",
    "\n",
    "            count[0] += 1\n",
    "            print(f'count: {count[0]} processed: {root}/{f}')\n",
    "            \n",
    "        # [file tree] directory - file  > recursively work\n",
    "        if f.endswith('flair.nii.gz') or f.endswith('t2.nii.gz'):\n",
    "            os.system(f'gunzip {path}')\n",
    "        elif os.path.isdir(path):\n",
    "            dive(path)\n",
    "\n",
    "# mgz2nii - freesurfer is needd to run this code          \n",
    "def mriconvert(root, f):\n",
    "    print(1)\n",
    "    subjectname=re.sub('.T1.mgz','',f)\n",
    "    mgz_path = rf'{root}/{f}'\n",
    "    nii_path = rf'{root}/{subjectname}.T1.nii'\n",
    "    os.system(f'mri_convert {mgz_path} {nii_path}') #mri_convert command\n",
    "    print(2)\n",
    "    return nii_path\n",
    "\n",
    "# skull-tripping\n",
    "#bet $ADNI_T1/${SUBJECT}/T1.anat/T1_to_MNI_nonlin.nii.gz $ADNI_T1/${SUBJECT}/T1.anat/brain_to_MNI_nonlin.nii.gz\n",
    "def bet(nii_path,root,f):\n",
    "    subjectname=re.sub('.T1.mgz','',f)\n",
    "    T1_path = nii_path\n",
    "    brain_path = rf'{root}/{subjectname}.brain.nii'\n",
    "    os.system(f'bet -m {T1_path} {brain_path}') #bet command\n",
    "    return f'{subjectname}.brain.nii'\n",
    "\n",
    "### clean function\n",
    "def clean_axis(np_img, path, axis=0):\n",
    "    x_len, y_len, z_len = len(np_img), len(np_img[0]), len(np_img[0, 0])\n",
    "    zero_mask = np.zeros(0)\n",
    "    del_inds = []\n",
    "    save_i = -1\n",
    "    iter_len = 0\n",
    "    continuity_warning = 0\n",
    "    \n",
    "    if axis == 0: \n",
    "        zero_mask = np.zeros((y_len, z_len))\n",
    "        iter_len = x_len\n",
    "    elif axis == 1: \n",
    "        zero_mask = np.zeros((x_len, z_len))\n",
    "        iter_len = y_len\n",
    "    elif axis == 2: \n",
    "        zero_mask = np.zeros((x_len, y_len))\n",
    "        iter_len = z_len\n",
    "    for i in range(iter_len):\n",
    "        plane = np.sum(np_img[i] != zero_mask) if axis == 0 else np.sum(np_img[:, i] != zero_mask) if axis == 1 else np.sum(np_img[:, :, i] != zero_mask) \n",
    "        if plane == 0: \n",
    "            del_inds.append(i)\n",
    "            if save_i + 1 != i: continuity_warning += 1\n",
    "            save_i = i\n",
    "\n",
    "    # cannot allow two breakpoints in del_inds\n",
    "    if continuity_warning >= 2: print(f'\\x1b[31m broken del_inds: {path} \\n axis: {axis} \\x1b[0m') \n",
    "        \n",
    "    # remove empty slices (every other slice to maintain the empty space ratio)\n",
    "    np_img = np.delete(np.swapaxes(np_img, 0, axis), del_inds, 0)\n",
    "    # add padding\n",
    "    zero_mask = np.zeros((len(np_img[0]), len(np_img[0, 0])))\n",
    "    np_img = np.insert(np_img, [0 for i in range(padding)], zero_mask, 0)\n",
    "    np_img = np.insert(np_img, [len(np_img) for i in range(padding)], zero_mask, 0)\n",
    "    \n",
    "    return np.swapaxes(np_img, 0, axis)\n",
    "\n",
    "\n",
    "# clean the 0-intensity space surrounding the brain\n",
    "def clean_space(root, f):\n",
    "    img_pth = rf'{root}/{f}'\n",
    "    subjectname=re.sub('.brain.nii','',f)\n",
    "    \n",
    "    \n",
    "    np_img = np.load(img_pth)\n",
    "    \n",
    "    #img = nib.load(img_pth)\n",
    "    #np_img = np.array(img.get_fdata())\n",
    "        \n",
    "    #clean axes (cleaned img)\n",
    "    np_img = clean_axis(np_img, img_pth, axis=0)\n",
    "    np_img = clean_axis(np_img, img_pth, axis=1)\n",
    "    np_img = clean_axis(np_img, img_pth, axis=2)\n",
    "    \n",
    "    # make .mgz / .nii with cleaned img\n",
    "    if f.endswith('mgz'):\n",
    "        # write to disk\n",
    "        feat = nib.freesurfer.mghformat.MGHImage(np_img, img.affine, img.header)\n",
    "    elif f.endswith('nii'):\n",
    "        img_pth_nii = rf'{root}/{subjectname}.brain_crop.nii'\n",
    "        img_pth_npy = rf'{root}/{subjectname}.brain_crop.npy'\n",
    "        feat = nib.Nifti1Image(np_img, img.affine, header=img.header) #chage data as nifti format\n",
    "        nib.save(feat, img_pth_nii)\n",
    "        \n",
    "        np.save(img_pth_npy, np_img) #"
   ]
  },
  {
   "cell_type": "markdown",
   "id": "0da02777",
   "metadata": {},
   "source": [
    "# visualization w/ 1 toy subject"
   ]
  },
  {
   "cell_type": "code",
   "execution_count": null,
   "id": "70072fd8",
   "metadata": {},
   "outputs": [],
   "source": [
    "!ls"
   ]
  },
  {
   "cell_type": "code",
   "execution_count": null,
   "id": "bb0ca705",
   "metadata": {
    "scrolled": false
   },
   "outputs": [],
   "source": [
    "# before cutting\n",
    "if __name__ == '__main__':\n",
    "    dive('/home/connectome/bettybetty3k/0.myResearch/3DCNN')"
   ]
  },
  {
   "cell_type": "code",
   "execution_count": null,
   "id": "948da996",
   "metadata": {},
   "outputs": [],
   "source": [
    "import subprocess\n",
    "#subprocess.call('/bin/bash -c \"$GREPDB\"', shell=True, env={'GREPDB':'mri_convert'})\n",
    "sp = subprocess.Popen([\"/bin/bash\",\"-i\",\"-c\",\"mri_convert\"])\n",
    "sp.communicate()"
   ]
  },
  {
   "cell_type": "code",
   "execution_count": null,
   "id": "802498de",
   "metadata": {
    "scrolled": false
   },
   "outputs": [],
   "source": [
    "# after cutting\n",
    "if __name__ == '__main__':\n",
    "    dive('/home/connectome/bettybetty3k/0.myResearch/3DCNN')"
   ]
  },
  {
   "cell_type": "markdown",
   "id": "4964f9a0",
   "metadata": {},
   "source": [
    "# visualization w/ all subjects"
   ]
  },
  {
   "cell_type": "code",
   "execution_count": null,
   "id": "054b7805",
   "metadata": {
    "scrolled": true
   },
   "outputs": [],
   "source": [
    "if __name__ == '__main__':\n",
    "    dive('/scratch/bigdata/ABCD/freesurfer/smri/freesurfer_smri') #storage-data / others-scratch"
   ]
  },
  {
   "cell_type": "code",
   "execution_count": null,
   "id": "e86c61d2",
   "metadata": {},
   "outputs": [],
   "source": [
    "# len('/scratch/bigdata/ABCD/freesurfer/smri/freesurfer_smri/sub-NDARINVZZZP87KR') #73"
   ]
  },
  {
   "cell_type": "code",
   "execution_count": null,
   "id": "b1dd0ad8",
   "metadata": {
    "scrolled": true
   },
   "outputs": [],
   "source": [
    "# cd /scratch/bigdata/ABCD/freesurfer/smri/freesurfer_smri"
   ]
  }
 ],
 "metadata": {
  "kernelspec": {
   "display_name": "Python 3 (ipykernel)",
   "language": "python",
   "name": "python3"
  },
  "language_info": {
   "codemirror_mode": {
    "name": "ipython",
    "version": 3
   },
   "file_extension": ".py",
   "mimetype": "text/x-python",
   "name": "python",
   "nbconvert_exporter": "python",
   "pygments_lexer": "ipython3",
   "version": "3.7.9"
  }
 },
 "nbformat": 4,
 "nbformat_minor": 5
}
