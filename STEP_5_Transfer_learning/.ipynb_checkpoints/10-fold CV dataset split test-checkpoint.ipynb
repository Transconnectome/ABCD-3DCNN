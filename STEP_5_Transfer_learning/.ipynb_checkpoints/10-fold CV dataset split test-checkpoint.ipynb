{
 "cells": [
  {
   "cell_type": "code",
   "execution_count": null,
   "metadata": {},
   "outputs": [],
   "source": [
    "from dataloaders.dataloaders import make_dataset\n",
    "from dataloaders.preprocessing import preprocessing_cat, preprocessing_num"
   ]
  },
  {
   "cell_type": "code",
   "execution_count": null,
   "metadata": {},
   "outputs": [],
   "source": [
    "cwd = os.getcwd()\n",
    "\n",
    "## ========= Setting ========= ##\n",
    "# seed number\n",
    "seed = 1234\n",
    "np.random.seed(seed)\n",
    "torch.manual_seed(seed)\n",
    "\n",
    "args = argument_setting()\n",
    "\n",
    "if args.transfer in ['age','MAE']:\n",
    "    assert 96 in args.resize\n",
    "else:\n",
    "    assert 80 in args.resize\n",
    "\n",
    "save_dir = os.getcwd() + '/result' #  \n",
    "partition, subject_data = make_dataset(args) #  \n",
    "\n",
    "## ========= Run Experiment and saving result ========= ##\n",
    "\n",
    "time_hash = datetime.datetime.now().time()\n",
    "hash_key = hashlib.sha1(str(time_hash).encode()).hexdigest()[:6]\n",
    "args.exp_name = args.exp_name + f'_{hash_key}'\n",
    "\n",
    "# Run Experiment\n",
    "print(f\"*** Experiment {args.exp_name} Start ***\")\n",
    "setting, result = experiment(partition, subject_data, save_dir, deepcopy(args))\n",
    "\n",
    "# Save result\n",
    "save_exp_result(save_dir, setting, result)\n",
    "print(\"*** Experiment Done ***\\n\")"
   ]
  }
 ],
 "metadata": {
  "kernelspec": {
   "display_name": "Python 3 (ipykernel)",
   "language": "python",
   "name": "python3"
  },
  "language_info": {
   "codemirror_mode": {
    "name": "ipython",
    "version": 3
   },
   "file_extension": ".py",
   "mimetype": "text/x-python",
   "name": "python",
   "nbconvert_exporter": "python",
   "pygments_lexer": "ipython3",
   "version": "3.9.12"
  }
 },
 "nbformat": 4,
 "nbformat_minor": 2
}
