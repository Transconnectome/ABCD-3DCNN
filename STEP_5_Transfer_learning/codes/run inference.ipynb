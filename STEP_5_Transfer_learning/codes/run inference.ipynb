{
 "cells": [
  {
   "cell_type": "markdown",
   "id": "10d97345",
   "metadata": {},
   "source": [
    "## Setting for inference"
   ]
  },
  {
   "cell_type": "code",
   "execution_count": 1,
   "id": "a34a3b05",
   "metadata": {},
   "outputs": [
    {
     "data": {
      "text/plain": [
       "'/scratch/connectome/jubin/ABCD-3DCNN/STEP_5_Transfer_learning/codes'"
      ]
     },
     "execution_count": 1,
     "metadata": {},
     "output_type": "execute_result"
    }
   ],
   "source": [
    "import os\n",
    "os.getcwd()"
   ]
  },
  {
   "cell_type": "code",
   "execution_count": 2,
   "id": "c32674f3",
   "metadata": {},
   "outputs": [],
   "source": [
    "os.chdir('/scratch/connectome/jubin/ABCD-3DCNN/STEP_5_Transfer_learning')"
   ]
  },
  {
   "cell_type": "code",
   "execution_count": 34,
   "id": "6fc4c46f",
   "metadata": {
    "scrolled": true
   },
   "outputs": [],
   "source": [
    "## ======= load module ======= ##\n",
    "from utils.utils import argument_setting, select_model, save_exp_result, checkpoint_load #  \n",
    "from dataloaders.dataloaders import make_dataset\n",
    "from dataloaders.preprocessing import preprocessing_cat, preprocessing_num\n",
    "\n",
    "\n",
    "import os\n",
    "import glob\n",
    "import argparse \n",
    "from tqdm.auto import tqdm ##progress\n",
    "import random\n",
    "from copy import deepcopy\n",
    "\n",
    "from sklearn.metrics import confusion_matrix, roc_auc_score\n",
    "\n",
    "import torch\n",
    "import torch.nn as nn\n",
    "\n",
    "import numpy as np\n",
    "\n",
    "import warnings\n",
    "warnings.filterwarnings(\"ignore\")\n",
    "\n",
    "\n",
    "\n",
    "\n",
    "if __name__ == \"__main__\":\n",
    "    cwd = os.getcwd()\n",
    "\n",
    "    ## ========= Setting ========= ##\n",
    "    # seed number\n",
    "    seed = 1234\n",
    "    random.seed(seed)\n",
    "    np.random.seed(seed)\n",
    "    torch.manual_seed(seed)"
   ]
  },
  {
   "cell_type": "code",
   "execution_count": 4,
   "id": "1d6bc39c",
   "metadata": {
    "scrolled": true
   },
   "outputs": [
    {
     "data": {
      "text/plain": [
       "_StoreAction(option_strings=['--cv'], dest='cv', nargs=None, const=None, default=None, type=<class 'int'>, choices=[1, 2, 3, 4, 5], help='option for 5-fold CV. 1~5.', metavar=None)"
      ]
     },
     "execution_count": 4,
     "metadata": {},
     "output_type": "execute_result"
    }
   ],
   "source": [
    "parser = argparse.ArgumentParser()\n",
    "\n",
    "parser.add_argument(\"--model\",required=True,type=str,help='',choices=['sfcn','simple3D','vgg3D11','vgg3D13','vgg3D16','vgg3D19','resnet3D50','resnet3D101','resnet3D152', 'densenet3D121', 'densenet3D169','densenet201','densenet264','sfcn'])\n",
    "parser.add_argument(\"--dataset\",required=True, type=str, choices=['UKB','ABCD'],help='') # revising\n",
    "parser.add_argument(\"--data\", type=str, help='select data type') # revising\n",
    "parser.add_argument(\"--val_size\",default=0.1,type=float,required=False,help='')\n",
    "parser.add_argument(\"--test_size\",default=0.1,type=float,required=False,help='')\n",
    "parser.add_argument(\"--resize\",default=(96, 96, 96),type=int,nargs=\"*\",required=False,help='')\n",
    "parser.add_argument(\"--train_batch_size\",default=16,type=int,required=False,help='')\n",
    "parser.add_argument(\"--val_batch_size\",default=16,type=int,required=False,help='')\n",
    "parser.add_argument(\"--test_batch_size\",default=1,type=int,required=False,help='')\n",
    "parser.add_argument(\"--in_channels\",default=1,type=int,required=False,help='')\n",
    "parser.add_argument(\"--optim\",type=str,required=True,help='', choices=['Adam','SGD','RAdam','AdamW'])\n",
    "parser.add_argument(\"--scheduler\",type=str,default='',help='') # revising\n",
    "parser.add_argument(\"--early_stopping\",type=int,default=None,help='') # revising\n",
    "parser.add_argument(\"--lr\", default=0.01,type=float,required=False,help='')\n",
    "parser.add_argument(\"--lr_adjust\", default=0.01, type=float, required=False,help='')   \n",
    "parser.add_argument(\"--weight_decay\",default=0.001,type=float,required=False,help='')\n",
    "parser.add_argument(\"--epoch\",type=int,required=True,help='')\n",
    "parser.add_argument(\"--epoch_FC\",type=int,required=False,default=0,help='')\n",
    "parser.add_argument(\"--exp_name\",type=str,required=True,help='')\n",
    "parser.add_argument(\"--cat_target\", type=str, nargs='*', required=False, help='')\n",
    "parser.add_argument(\"--num_target\", type=str,nargs='*', required=False, help='')\n",
    "parser.add_argument(\"--confusion_matrix\", type=str, nargs='*',required=False, help='')\n",
    "parser.add_argument(\"--gpus\", type=int,nargs='*', required=False, help='')\n",
    "parser.add_argument(\"--sbatch\", type=str, required=False, choices=['True', 'False'])\n",
    "parser.add_argument(\"--transfer\", type=str, required=False, default=\"\", choices=['sex','age','simclr','MAE'])\n",
    "parser.add_argument(\"--unfrozen_layer\", type=str, required=False, default='0') \n",
    "parser.add_argument(\"--load\", type=str, required=False, default=\"\")\n",
    "parser.add_argument(\"--init_unfrozen\", type=str, required=False, default=\"\",help='init unfrozen layers')\n",
    "parser.add_argument(\"--scratch\", type=str, required=False, default='',help='option for learning from scratch')\n",
    "parser.add_argument(\"--filter\",required=False, nargs=\"+\", default=[],\n",
    "                    help='options for filter data by phenotype. usage: --filter abcd_site:10 sex:1')\n",
    "parser.add_argument(\"--augmentation\",required=False, nargs=\"+\", default=[],\n",
    "                        help=\"Data augmentation - [shift, flip] are available\")\n",
    "parser.add_argument(\"--cv\",required=False, type=int, default=None,choices=[1,2,3,4,5],help=\"option for 5-fold CV. 1~5.\")\n"
   ]
  },
  {
   "cell_type": "markdown",
   "id": "ee040a97",
   "metadata": {},
   "source": [
    "## Load model"
   ]
  },
  {
   "cell_type": "code",
   "execution_count": 51,
   "id": "e1013430",
   "metadata": {},
   "outputs": [],
   "source": [
    "model_name = \"ABCD_sex_TL_ALL_10\""
   ]
  },
  {
   "cell_type": "code",
   "execution_count": 52,
   "id": "8e188268",
   "metadata": {},
   "outputs": [],
   "source": [
    "com = f'--load {model_name} --cat_target sex --dataset ABCD --data freesurfer --model densenet3D121 --resize 80 80 80 --gpus 0 --test_batch_size 1 --val_size 0.1 --test_size 0.1 --exp_name CNN_sex_TL_test --optim AdamW --epoch 0 --confusion_matrix sex'"
   ]
  },
  {
   "cell_type": "code",
   "execution_count": 53,
   "id": "d0e4d2fc",
   "metadata": {},
   "outputs": [
    {
     "name": "stdout",
     "output_type": "stream",
     "text": [
      "*** Categorical target labels are ['sex'] and Numerical target labels are None *** \n",
      "\n"
     ]
    }
   ],
   "source": [
    "args = parser.parse_args(com.split())\n",
    "print(\"*** Categorical target labels are {} and Numerical target labels are {} *** \\n\".format(\n",
    "    args.cat_target, args.num_target)\n",
    "     )\n",
    "\n",
    "if not args.cat_target:\n",
    "    args.cat_target = []\n",
    "elif not args.num_target:\n",
    "    args.num_target = []\n",
    "elif not args.cat_target and args.num_target:\n",
    "    raise ValueError('YOU SHOULD SELECT THE TARGET!')\n"
   ]
  },
  {
   "cell_type": "code",
   "execution_count": 54,
   "id": "83e80b25",
   "metadata": {
    "scrolled": false
   },
   "outputs": [
    {
     "data": {
      "application/vnd.jupyter.widget-view+json": {
       "model_id": "e5d1e0649f39448bad7ca2b4a36d7bca",
       "version_major": 2,
       "version_minor": 0
      },
      "text/plain": [
       "  0%|          | 0/11352 [00:00<?, ?it/s]"
      ]
     },
     "metadata": {},
     "output_type": "display_data"
    },
    {
     "name": "stdout",
     "output_type": "stream",
     "text": [
      "Total subjects=11352, train=9082, val=1135, test=1135\n",
      "In train dataset, sex contains 4333 CASE and 4749 CONTROL\n",
      "In validation dataset, sex contains 533 CASE and 602 CONTROL\n",
      "In test dataset, sex contains 544 CASE and 591 CONTROL\n",
      "*** Making a dataset is completed *** \n",
      "\n",
      "*** Test for CNN_sex_TL_test Start ***\n",
      "*** Model setting for test *** \n",
      "\n",
      "Loaded ABCD_sex_TL_ALL_10\n",
      "The best checkpoint is loaded\n"
     ]
    }
   ],
   "source": [
    "if args.transfer in ['age','MAE']:\n",
    "    assert 96 in args.resize, \"age(MSE/MAE) transfer model's resize should be 96\"\n",
    "elif args.transfer == 'sex':\n",
    "    assert 80 in args.resize, \"sex transfer model's resize should be 80\"\n",
    "\n",
    "save_dir = os.getcwd() + '/result'\n",
    "partition, subject_data = make_dataset(args)  \n",
    "\n",
    "## ========= Run Experiment and saving result ========= ## \n",
    "\n",
    "# Run Experiment\n",
    "print(f\"*** Test for {args.exp_name} Start ***\")\n",
    "net = select_model(subject_data, args) #  \n",
    "\n",
    "# loading pretrained model if transfer option is given\n",
    "if args.load:\n",
    "    print(\"*** Model setting for test *** \\n\")\n",
    "    model_dir = glob.glob(f'/scratch/connectome/jubin/result/model/*{args.load}*')[0]\n",
    "    print(f\"Loaded {args.load}\")\n",
    "    net = checkpoint_load(net, model_dir)\n",
    "\n",
    "# setting a DataParallel and model on GPU\n",
    "if args.sbatch == \"True\":\n",
    "    devices = []\n",
    "    for d in range(torch.cuda.device_count()):\n",
    "        devices.append(d)\n",
    "    net = nn.DataParallel(net, device_ids = devices)\n",
    "else:\n",
    "    if not args.gpus:\n",
    "        raise ValueError(\"GPU DEVICE IDS SHOULD BE ASSIGNED\")\n",
    "    else:\n",
    "        net = nn.DataParallel(net, device_ids=args.gpus)\n",
    "\n",
    "if args.sbatch == 'True':\n",
    "    net.cuda()\n",
    "else:\n",
    "    net.to(f'cuda:{args.gpus[0]}')\n",
    "\n",
    "testloader = torch.utils.data.DataLoader(partition['test'],\n",
    "                                            batch_size=args.test_batch_size,\n",
    "                                            shuffle=False,\n",
    "                                            num_workers=4)\n",
    "\n",
    "net.eval()\n",
    "if hasattr(net, 'module'):\n",
    "    device = net.device_ids[0]\n",
    "else: \n",
    "    if args.sbatch =='True':\n",
    "        device = 'cuda:0'\n",
    "    else:\n",
    "        device = f'cuda:{args.gpus[0]}'\n",
    "#correct = {}\n",
    "#y_true = {}\n",
    "\n",
    "outputs = {}\n",
    "y_true = {}\n",
    "test_acc = {}\n",
    "confusion_matrices = {}\n",
    "\n",
    "\n",
    "if args.cat_target:\n",
    "    for cat_target in args.cat_target:\n",
    "        outputs[cat_target] = torch.tensor([])\n",
    "        y_true[cat_target] = torch.tensor([])\n",
    "        test_acc[cat_target] = []\n",
    "\n",
    "if args.num_target:\n",
    "    for num_target in args.num_target:\n",
    "        outputs[num_target] = torch.tensor([])\n",
    "        y_true[num_target] = torch.tensor([])\n",
    "        test_acc[num_target] = []"
   ]
  },
  {
   "cell_type": "code",
   "execution_count": 55,
   "id": "7048cbce",
   "metadata": {},
   "outputs": [
    {
     "data": {
      "application/vnd.jupyter.widget-view+json": {
       "model_id": "d08b31471ffc4ec38b614747b1309b19",
       "version_major": 2,
       "version_minor": 0
      },
      "text/plain": [
       "  0%|          | 0/1135 [00:00<?, ?it/s]"
      ]
     },
     "metadata": {},
     "output_type": "display_data"
    },
    {
     "name": "stdout",
     "output_type": "stream",
     "text": [
      "Test result: {'sex': [83.78854625550662]} & None for ABCD_sex_TL_ALL_10\n"
     ]
    }
   ],
   "source": [
    "with torch.no_grad():\n",
    "    for i, data in enumerate(tqdm(testloader),0):\n",
    "        image, targets = data\n",
    "        image = image.to(device)\n",
    "\n",
    "        output = net(image)\n",
    "        if args.cat_target:\n",
    "            for cat_target in args.cat_target:\n",
    "                outputs[cat_target] = torch.cat((outputs[cat_target], output[cat_target].cpu()))\n",
    "                y_true[cat_target] = torch.cat((y_true[cat_target], targets[cat_target].cpu()))\n",
    "\n",
    "        if args.num_target:\n",
    "            for num_target in args.num_target:\n",
    "                outputs[num_target] = torch.cat((outputs[num_target], output[num_target].cpu()))\n",
    "                y_true[num_target] = torch.cat((y_true[num_target], targets[num_target].cpu()))\n",
    "\n",
    "\n",
    "# caculating ACC and R2 at once  \n",
    "if args.cat_target:\n",
    "    for cat_target in args.cat_target:\n",
    "        _, predicted = torch.max(outputs[cat_target].data,1)\n",
    "        correct = (predicted == y_true[cat_target]).sum().item()\n",
    "        total = y_true[cat_target].size(0)\n",
    "        test_acc[cat_target].append(100 * (correct / total))\n",
    "        auroc = roc_auc_score(y_true[cat_target].detach().cpu(), outputs[cat_target].data[:, 1].detach().cpu())\n",
    "\n",
    "        if args.confusion_matrix:\n",
    "            for label_cm in args.confusion_matrix: \n",
    "                if len(np.unique(y_true[cat_target].numpy())) == 2:\n",
    "                    confusion_matrices[label_cm] = {}\n",
    "                    confusion_matrices[label_cm]['True Positive'] = 0\n",
    "                    confusion_matrices[label_cm]['True Negative'] = 0\n",
    "                    confusion_matrices[label_cm]['False Positive'] = 0\n",
    "                    confusion_matrices[label_cm]['False Negative'] = 0\n",
    "                    if label_cm == cat_target:\n",
    "                        tn, fp, fn, tp = confusion_matrix(y_true[cat_target].numpy(), predicted.numpy()).ravel()\n",
    "                        confusion_matrices[label_cm]['True Positive'] = int(tp)\n",
    "                        confusion_matrices[label_cm]['True Negative'] = int(tn)\n",
    "                        confusion_matrices[label_cm]['False Positive'] = int(fp)\n",
    "                        confusion_matrices[label_cm]['False Negative'] = int(fn)                       \n",
    "\n",
    "MAE = None\n",
    "if args.num_target:\n",
    "    for num_target in args.num_target:\n",
    "        predicted =  outputs[num_target].float()\n",
    "        criterion = nn.MSELoss()\n",
    "        loss = criterion(predicted, y_true[num_target].float().unsqueeze(1))\n",
    "        l1loss = nn.L1Loss()\n",
    "        MAE = l1loss(predicted, y_true[num_target].float().unsqueeze(1))\n",
    "        y_var = torch.var(y_true[num_target])\n",
    "        r_square = 1 - (loss / y_var)\n",
    "        test_acc[num_target].append(r_square.item())\n",
    "        confusion_matrices = None\n",
    "\n",
    "result = {'test_acc':test_acc,'MAE':MAE}\n",
    "\n",
    "print(f\"Test result: {test_acc} & {MAE} for {args.load}\") \n",
    "\n",
    "if confusion_matrices != None:\n",
    "    result['confusion_matrices'] = confusion_matrices\n"
   ]
  },
  {
   "cell_type": "code",
   "execution_count": 43,
   "id": "95711a47",
   "metadata": {
    "scrolled": true
   },
   "outputs": [
    {
     "data": {
      "text/plain": [
       "0.9640471036130188"
      ]
     },
     "execution_count": 43,
     "metadata": {},
     "output_type": "execute_result"
    }
   ],
   "source": [
    "auroc"
   ]
  },
  {
   "cell_type": "code",
   "execution_count": 50,
   "id": "08675698",
   "metadata": {
    "scrolled": false
   },
   "outputs": [
    {
     "data": {
      "text/plain": [
       "{'sex': {'True Positive': 438,\n",
       "  'True Negative': 564,\n",
       "  'False Positive': 27,\n",
       "  'False Negative': 106}}"
      ]
     },
     "execution_count": 50,
     "metadata": {},
     "output_type": "execute_result"
    }
   ],
   "source": [
    "confusion_matrices"
   ]
  },
  {
   "cell_type": "code",
   "execution_count": null,
   "id": "612cc52d",
   "metadata": {},
   "outputs": [],
   "source": [
    "--num_target BMI --val_size 0.1 --test_size 0.1 --lr 1 --optim AdamW \\\n",
    "--resize 128 --train_batch_size 64 --val_batch_size 64 --test_batch_size 160 --dataset ABCD --data_type FA_warppped_nii \\\n",
    "--exp_name BMI_FA_CNN_test --model densenet3D121 --epoch 1 --gpus 0 --load BMI_FA_01_243710"
   ]
  }
 ],
 "metadata": {
  "kernelspec": {
   "display_name": "Python 3 (ipykernel)",
   "language": "python",
   "name": "python3"
  },
  "language_info": {
   "codemirror_mode": {
    "name": "ipython",
    "version": 3
   },
   "file_extension": ".py",
   "mimetype": "text/x-python",
   "name": "python",
   "nbconvert_exporter": "python",
   "pygments_lexer": "ipython3",
   "version": "3.7.6"
  }
 },
 "nbformat": 4,
 "nbformat_minor": 5
}
