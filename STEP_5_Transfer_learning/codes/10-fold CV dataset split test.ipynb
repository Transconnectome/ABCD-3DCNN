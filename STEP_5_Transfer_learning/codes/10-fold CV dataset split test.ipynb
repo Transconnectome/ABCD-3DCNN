{
 "cells": [
  {
   "cell_type": "code",
   "execution_count": 1,
   "metadata": {},
   "outputs": [
    {
     "name": "stderr",
     "output_type": "stream",
     "text": [
      "/home/connectome/jubin/.conda/envs/3DCNN/lib/python3.9/site-packages/tqdm/auto.py:22: TqdmWarning: IProgress not found. Please update jupyter and ipywidgets. See https://ipywidgets.readthedocs.io/en/stable/user_install.html\n",
      "  from .autonotebook import tqdm as notebook_tqdm\n"
     ]
    }
   ],
   "source": [
    "import os\n",
    "\n",
    "import torch\n",
    "import numpy as np\n",
    "import pandas as pd\n",
    "import argparse\n",
    "\n",
    "from dataloaders.dataloaders import make_dataset\n",
    "from dataloaders.preprocessing import preprocessing_cat, preprocessing_num"
   ]
  },
  {
   "cell_type": "code",
   "execution_count": 2,
   "metadata": {},
   "outputs": [],
   "source": [
    "command = '--transfer MAE --num_target age --dataset ABCD --data freesurfer --val_size 0.1 --test_size 0.1 --lr 1e-5 --optim Adam --resize 96 96 96 --scheduler on --train_batch_size 112 --val_batch_size 112 --exp_name datatest --model densenet3D121 --epoch 3 --epoch_FC 0 --unfrozen_layer all --gpus 0'\n",
    "command = command.split()"
   ]
  },
  {
   "cell_type": "code",
   "execution_count": 3,
   "metadata": {},
   "outputs": [
    {
     "data": {
      "text/plain": [
       "_StoreAction(option_strings=['--init_unfrozen'], dest='init_unfrozen', nargs=None, const=None, default='', type=<class 'str'>, choices=None, help='init unfrozen layers', metavar=None)"
      ]
     },
     "execution_count": 3,
     "metadata": {},
     "output_type": "execute_result"
    }
   ],
   "source": [
    "parser = argparse.ArgumentParser()\n",
    "\n",
    "#parser.add_argument(\"--GPU_NUM\",default=1,type=int,required=True,help='')\n",
    "parser.add_argument(\"--model\",required=True,type=str,help='',choices=['simple3D','vgg3D11','vgg3D13','vgg3D16','vgg3D19','resnet3D50','resnet3D101','resnet3D152', 'densenet3D121', 'densenet3D169','densenet201','densenet264'])\n",
    "parser.add_argument(\"--dataset\",required=True, type=str, choices=['UKB','ABCD'],help='') # revising\n",
    "parser.add_argument(\"--data\", type=str, help='select data type') # revising\n",
    "parser.add_argument(\"--val_size\",default=0.1,type=float,required=False,help='')\n",
    "parser.add_argument(\"--test_size\",default=0.1,type=float,required=False,help='')\n",
    "parser.add_argument(\"--resize\",default=(96, 96, 96),type=int,nargs=\"*\",required=False,help='')\n",
    "parser.add_argument(\"--train_batch_size\",default=16,type=int,required=False,help='')\n",
    "parser.add_argument(\"--val_batch_size\",default=16,type=int,required=False,help='')\n",
    "parser.add_argument(\"--test_batch_size\",default=1,type=int,required=False,help='')\n",
    "parser.add_argument(\"--in_channels\",default=1,type=int,required=False,help='')\n",
    "parser.add_argument(\"--optim\",type=str,required=True,help='', choices=['Adam','SGD','RAdam','AdamW'])\n",
    "parser.add_argument(\"--scheduler\",type=str,default='',help='') # revising\n",
    "parser.add_argument(\"--lr\", default=0.01,type=float,required=False,help='')\n",
    "parser.add_argument(\"--lr_adjust\", default=0.01, type=float, required=False,help='')   \n",
    "parser.add_argument(\"--weight_decay\",default=0.001,type=float,required=False,help='')\n",
    "parser.add_argument(\"--epoch\",type=int,required=True,help='')\n",
    "parser.add_argument(\"--epoch_FC\",type=int,required=False,default=0,help='')\n",
    "parser.add_argument(\"--exp_name\",type=str,required=True,help='')\n",
    "parser.add_argument(\"--cat_target\", type=str, nargs='*', required=False, help='')\n",
    "parser.add_argument(\"--num_target\", type=str,nargs='*', required=False, help='')\n",
    "parser.add_argument(\"--confusion_matrix\", type=str, nargs='*',required=False, help='')\n",
    "parser.add_argument(\"--gpus\", type=int,nargs='*', required=False, help='')\n",
    "parser.add_argument(\"--sbatch\", type=str, required=False, choices=['True', 'False'])\n",
    "parser.add_argument(\"--transfer\", type=str, required=False, default=\"\", choices=['sex','age','simclr','MAE'])\n",
    "parser.add_argument(\"--unfrozen_layer\", type=str, required=False, default='0') \n",
    "parser.add_argument(\"--load\", type=str, required=False, default=\"\")\n",
    "parser.add_argument(\"--init_unfrozen\", type=str, required=False, default=\"\",help='init unfrozen layers')"
   ]
  },
  {
   "cell_type": "code",
   "execution_count": 4,
   "metadata": {},
   "outputs": [
    {
     "name": "stdout",
     "output_type": "stream",
     "text": [
      "*** Categorical target labels are None and Numerical target labels are ['age'] *** \n",
      "\n"
     ]
    }
   ],
   "source": [
    "args = parser.parse_args(args=command)\n",
    "print(\"*** Categorical target labels are {} and Numerical target labels are {} *** \\n\".format(\n",
    "    args.cat_target, args.num_target)\n",
    "     )\n",
    "\n",
    "if not args.cat_target:\n",
    "    args.cat_target = []\n",
    "elif not args.num_target:\n",
    "    args.num_target = []\n",
    "elif not args.cat_target and args.num_target:\n",
    "    raise ValueError('YOU SHOULD SELECT THE TARGET!')"
   ]
  },
  {
   "cell_type": "code",
   "execution_count": 5,
   "metadata": {},
   "outputs": [
    {
     "name": "stderr",
     "output_type": "stream",
     "text": [
      "/scratch/connectome/jubin/ABCD-3DCNN/STEP_5_Transfer_learning/dataloaders/dataloaders.py:52: FutureWarning: The default dtype for empty Series will be 'object' instead of 'float64' in a future version. Specify a dtype explicitly to silence this warning.\n",
      "  image_files = pd.concat([image_files, pd.Series(glob.glob('*.nii.gz'))])\n",
      "100%|██████████████████████████████████| 11357/11357 [00:00<00:00, 80521.57it/s]"
     ]
    },
    {
     "name": "stdout",
     "output_type": "stream",
     "text": [
      "*** Making a dataset is completed *** \n",
      "\n"
     ]
    },
    {
     "name": "stderr",
     "output_type": "stream",
     "text": [
      "\n"
     ]
    }
   ],
   "source": [
    "cwd = os.getcwd()\n",
    "\n",
    "## ========= Setting ========= ##\n",
    "# seed number\n",
    "seed = 1234\n",
    "np.random.seed(seed)\n",
    "torch.manual_seed(seed)\n",
    "\n",
    "\n",
    "if args.transfer in ['age','MAE']:\n",
    "    assert 96 in args.resize\n",
    "else:\n",
    "    assert 80 in args.resize\n",
    "\n",
    "save_dir = os.getcwd() + '/result' #  \n",
    "partition, subject_data = make_dataset(args) #  "
   ]
  },
  {
   "cell_type": "code",
   "execution_count": 7,
   "metadata": {
    "scrolled": true
   },
   "outputs": [
    {
     "data": {
      "text/plain": [
       "count    11536.000000\n",
       "mean       118.953190\n",
       "std          7.464702\n",
       "min        108.000000\n",
       "25%        112.000000\n",
       "50%        119.000000\n",
       "75%        125.000000\n",
       "max        131.000000\n",
       "Name: age, dtype: float64"
      ]
     },
     "execution_count": 7,
     "metadata": {},
     "output_type": "execute_result"
    }
   ],
   "source": [
    "subject_data.age.describe()"
   ]
  },
  {
   "cell_type": "code",
   "execution_count": 8,
   "metadata": {
    "scrolled": true
   },
   "outputs": [
    {
     "data": {
      "text/plain": [
       "count    1.153600e+04\n",
       "mean     1.858027e-09\n",
       "std      1.000000e+00\n",
       "min     -1.467331e+00\n",
       "25%     -9.314759e-01\n",
       "50%      6.270846e-03\n",
       "75%      8.100538e-01\n",
       "max      1.613837e+00\n",
       "Name: age, dtype: float64"
      ]
     },
     "execution_count": 8,
     "metadata": {},
     "output_type": "execute_result"
    }
   ],
   "source": [
    "((subject_data.age-118.953190)/7.464702).describe()"
   ]
  },
  {
   "cell_type": "code",
   "execution_count": 10,
   "metadata": {},
   "outputs": [
    {
     "data": {
      "text/plain": [
       "5.9712000000000005"
      ]
     },
     "execution_count": 10,
     "metadata": {},
     "output_type": "execute_result"
    }
   ],
   "source": [
    "0.8*7.464 "
   ]
  }
 ],
 "metadata": {
  "kernelspec": {
   "display_name": "Python 3 (ipykernel)",
   "language": "python",
   "name": "python3"
  },
  "language_info": {
   "codemirror_mode": {
    "name": "ipython",
    "version": 3
   },
   "file_extension": ".py",
   "mimetype": "text/x-python",
   "name": "python",
   "nbconvert_exporter": "python",
   "pygments_lexer": "ipython3",
   "version": "3.9.12"
  }
 },
 "nbformat": 4,
 "nbformat_minor": 2
}
