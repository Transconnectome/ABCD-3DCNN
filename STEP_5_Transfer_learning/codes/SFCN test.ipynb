{
 "cells": [
  {
   "cell_type": "code",
   "execution_count": 64,
   "id": "e902da26",
   "metadata": {},
   "outputs": [
    {
     "name": "stdout",
     "output_type": "stream",
     "text": [
      "1 1\n"
     ]
    }
   ],
   "source": [
    "a = b = 1\n",
    "print(a,b)"
   ]
  },
  {
   "cell_type": "code",
   "execution_count": 65,
   "id": "d165c4b9",
   "metadata": {},
   "outputs": [],
   "source": [
    "import torch\n",
    "import torch.nn as nn\n",
    "import torch.nn.functional as F\n",
    "from pytorch_model_summary import summary\n",
    "\n",
    "class SFCN(nn.Module):\n",
    "    def __init__(self, subject_data, args, channel_number=[32, 64, 128, 256, 256, 64], output_dim=40, dropout=True):\n",
    "        super(SFCN, self).__init__()\n",
    "        # Setting experiment related variables\n",
    "        self.subject_data = subject_data\n",
    "        self.cat_target = args.cat_target\n",
    "        self.num_target = args.num_target \n",
    "        self.target = args.cat_target + args.num_target\n",
    "        \n",
    "        # Setting model related variables\n",
    "        self.n_layer = n_layer = len(channel_number)\n",
    "        self.channel_number = channel_number\n",
    "        self.last_feature = channel_number[-1]\n",
    "        self.output_dim = output_dim\n",
    "        self.dropout = dropout\n",
    "        \n",
    "        # make feature extractor\n",
    "        self.feature_extractor = nn.Sequential()\n",
    "        \n",
    "        for i in range(n_layer):\n",
    "            in_channel = 1 if i == 0 else channel_number[i-1]\n",
    "            out_channel = channel_number[i]\n",
    "            \n",
    "            curr_kernel_size = 3 if i < n_layer-1 else 1\n",
    "            curr_padding = 1 if i < n_layer-1 else 0\n",
    "            \n",
    "            self.feature_extractor.add_module('conv_%d' % i,\n",
    "                                              self.conv_layer(in_channel,\n",
    "                                                              out_channel,\n",
    "                                                              maxpool=True,\n",
    "                                                              kernel_size=curr_kernel_size,\n",
    "                                                              padding=curr_padding))\n",
    "            \n",
    "\n",
    "        \n",
    "        # make classifier part\n",
    "        self.FClayers = self.make_fclayers(self)\n",
    "        \n",
    "#         avg_shape = max(set(args.resize))//(2**len(channel_number))\n",
    "#         self.classifier = self.make_classifier(self, avg_shape)\n",
    "        \n",
    "        # initialize trainable weights\n",
    "        for m in self.modules():\n",
    "            if isinstance(m, nn.Conv3d):\n",
    "                nn.init.kaiming_normal_(m.weight, mode='fan_out',nonlinearity='relu')\n",
    "            elif isinstance(m, nn.BatchNorm3d):\n",
    "                nn.init.constant_(m.weight, 1)\n",
    "                nn.init.constant_(m.bias, 0)\n",
    "            elif isinstance(m, nn.Linear):\n",
    "                nn.init.constant_(m.bias, 0)\n",
    "\n",
    "    @staticmethod\n",
    "    def conv_layer(in_channel, out_channel, maxpool=True, kernel_size=3, padding=0, maxpool_stride=2):\n",
    "        if maxpool is True:\n",
    "            layer = nn.Sequential(\n",
    "                nn.Conv3d(in_channel, out_channel, padding=padding, kernel_size=kernel_size),\n",
    "                nn.BatchNorm3d(out_channel),\n",
    "                nn.MaxPool3d(2, stride=maxpool_stride),\n",
    "                nn.ReLU(),\n",
    "            )\n",
    "        else:\n",
    "            layer = nn.Sequential(\n",
    "                nn.Conv3d(in_channel, out_channel, padding=padding, kernel_size=kernel_size),\n",
    "                nn.BatchNorm3d(out_channel),\n",
    "                nn.ReLU()\n",
    "            )\n",
    "        return layer\n",
    "    \n",
    "    @staticmethod\n",
    "    def make_fclayers(self):\n",
    "        FClayer = []\n",
    "        \n",
    "        for cat_label in self.cat_target:\n",
    "            self.out_dim = len(self.subject_data[cat_label].value_counts())                        \n",
    "            FClayer.append(nn.Sequential(nn.Linear(self.last_feature, self.out_dim)))\n",
    "\n",
    "        for num_label in self.num_target:\n",
    "            FClayer.append(nn.Sequential(nn.Linear(self.last_feature, 1)))\n",
    "\n",
    "        return nn.ModuleList(FClayer)\n",
    "    \n",
    "    @staticmethod    \n",
    "    def make_classifier(self, avg_shape):\n",
    "        self.classifier = nn.Sequential()\n",
    "        if avg_shape >1:\n",
    "            self.classifier.add_module('average_pool', nn.AvgPool3d(avg_shape))\n",
    "        if self.dropout is True:\n",
    "            self.classifier.add_module('dropout', nn.Dropout(0.5))\n",
    "        i = n_layer\n",
    "        in_channel = self.channel_number[-1]\n",
    "        out_channel = output_dim\n",
    "        self.classifier.add_module('conv_%d' % i,\n",
    "                                   nn.Conv3d(in_channel, out_channel, padding=0, kernel_size=1))\n",
    "\n",
    "    def forward(self, x):\n",
    "#         out = list()\n",
    "#         x_f = self.feature_extractor(x)\n",
    "#         x = self.classifier(x_f)\n",
    "#         x = F.log_softmax(x, dim=1)\n",
    "#         out.append(x)\n",
    "#         return out\n",
    "\n",
    "        results = {}\n",
    "\n",
    "        features = self.feature_extractor(x)\n",
    "        out = F.relu(features, inplace=True)\n",
    "        out = F.adaptive_avg_pool3d(out, output_size=(1, 1, 1))\n",
    "        out = torch.flatten(out, 1)\n",
    "\n",
    "        for i in range(len(self.FClayers)):\n",
    "            results[self.target[i]] = self.FClayers[i](out)\n",
    "            \n",
    "        return results\n",
    "    \n"
   ]
  },
  {
   "cell_type": "code",
   "execution_count": 86,
   "id": "cb80a9cb",
   "metadata": {},
   "outputs": [],
   "source": [
    "class args:\n",
    "    def __init__(self, resize=80):\n",
    "        self.resize = resize\n",
    "        self.num_target = [0]\n",
    "        self.cat_target = []"
   ]
  },
  {
   "cell_type": "code",
   "execution_count": 67,
   "id": "73f7446b",
   "metadata": {},
   "outputs": [
    {
     "data": {
      "text/plain": [
       "(160, 160, 160)"
      ]
     },
     "execution_count": 67,
     "metadata": {},
     "output_type": "execute_result"
    }
   ],
   "source": [
    "(160,)*3"
   ]
  },
  {
   "cell_type": "code",
   "execution_count": 68,
   "id": "6988d987",
   "metadata": {},
   "outputs": [],
   "source": [
    "resize=(127,)*3\n",
    "sfcn = SFCN(None,args(resize)).cuda()"
   ]
  },
  {
   "cell_type": "code",
   "execution_count": 69,
   "id": "1bda30d7",
   "metadata": {},
   "outputs": [],
   "source": [
    "rand_tensor = torch.zeros(1,1,*resize).cuda()"
   ]
  },
  {
   "cell_type": "code",
   "execution_count": 70,
   "id": "fb6736e7",
   "metadata": {},
   "outputs": [
    {
     "name": "stdout",
     "output_type": "stream",
     "text": [
      "------------------------------------------------------------------------------\n",
      "      Layer (type)               Output Shape         Param #     Tr. Param #\n",
      "==============================================================================\n",
      "          Conv3d-1     [1, 32, 127, 127, 127]             896             896\n",
      "     BatchNorm3d-2     [1, 32, 127, 127, 127]              64              64\n",
      "       MaxPool3d-3        [1, 32, 63, 63, 63]               0               0\n",
      "            ReLU-4        [1, 32, 63, 63, 63]               0               0\n",
      "          Conv3d-5        [1, 64, 63, 63, 63]          55,360          55,360\n",
      "     BatchNorm3d-6        [1, 64, 63, 63, 63]             128             128\n",
      "       MaxPool3d-7        [1, 64, 31, 31, 31]               0               0\n",
      "            ReLU-8        [1, 64, 31, 31, 31]               0               0\n",
      "          Conv3d-9       [1, 128, 31, 31, 31]         221,312         221,312\n",
      "    BatchNorm3d-10       [1, 128, 31, 31, 31]             256             256\n",
      "      MaxPool3d-11       [1, 128, 15, 15, 15]               0               0\n",
      "           ReLU-12       [1, 128, 15, 15, 15]               0               0\n",
      "         Conv3d-13       [1, 256, 15, 15, 15]         884,992         884,992\n",
      "    BatchNorm3d-14       [1, 256, 15, 15, 15]             512             512\n",
      "      MaxPool3d-15          [1, 256, 7, 7, 7]               0               0\n",
      "           ReLU-16          [1, 256, 7, 7, 7]               0               0\n",
      "         Conv3d-17          [1, 256, 7, 7, 7]       1,769,728       1,769,728\n",
      "    BatchNorm3d-18          [1, 256, 7, 7, 7]             512             512\n",
      "      MaxPool3d-19          [1, 256, 3, 3, 3]               0               0\n",
      "           ReLU-20          [1, 256, 3, 3, 3]               0               0\n",
      "         Conv3d-21           [1, 64, 3, 3, 3]          16,448          16,448\n",
      "    BatchNorm3d-22           [1, 64, 3, 3, 3]             128             128\n",
      "      MaxPool3d-23           [1, 64, 1, 1, 1]               0               0\n",
      "           ReLU-24           [1, 64, 1, 1, 1]               0               0\n",
      "         Linear-25                     [1, 1]              65              65\n",
      "==============================================================================\n",
      "Total params: 2,950,401\n",
      "Trainable params: 2,950,401\n",
      "Non-trainable params: 0\n",
      "------------------------------------------------------------------------------\n"
     ]
    }
   ],
   "source": [
    "print(summary(sfcn,rand_tensor,show_hierarchical=0))"
   ]
  },
  {
   "cell_type": "code",
   "execution_count": 80,
   "id": "aab55a8e",
   "metadata": {},
   "outputs": [],
   "source": [
    "import models.densenet3d "
   ]
  },
  {
   "cell_type": "code",
   "execution_count": 91,
   "id": "fe58982d",
   "metadata": {},
   "outputs": [],
   "source": [
    "dnet = models.densenet3d.densenet3D121(None,args()).cuda()"
   ]
  },
  {
   "cell_type": "code",
   "execution_count": 93,
   "id": "b42c4c80",
   "metadata": {},
   "outputs": [
    {
     "name": "stdout",
     "output_type": "stream",
     "text": [
      "----------------------------------------------------------------------------\n",
      "      Layer (type)             Output Shape         Param #     Tr. Param #\n",
      "============================================================================\n",
      "          Conv3d-1      [1, 64, 64, 64, 64]          21,952          21,952\n",
      "     BatchNorm3d-2      [1, 64, 64, 64, 64]             128             128\n",
      "            ReLU-3      [1, 64, 64, 64, 64]               0               0\n",
      "       MaxPool3d-4      [1, 64, 32, 32, 32]               0               0\n",
      "     _DenseBlock-5     [1, 256, 32, 32, 32]         777,408         777,408\n",
      "     BatchNorm3d-6     [1, 256, 32, 32, 32]             512             512\n",
      "            ReLU-7     [1, 256, 32, 32, 32]               0               0\n",
      "          Conv3d-8     [1, 128, 32, 32, 32]          32,768          32,768\n",
      "       AvgPool3d-9     [1, 128, 16, 16, 16]               0               0\n",
      "    _DenseBlock-10     [1, 512, 16, 16, 16]       1,804,416       1,804,416\n",
      "    BatchNorm3d-11     [1, 512, 16, 16, 16]           1,024           1,024\n",
      "           ReLU-12     [1, 512, 16, 16, 16]               0               0\n",
      "         Conv3d-13     [1, 256, 16, 16, 16]         131,072         131,072\n",
      "      AvgPool3d-14        [1, 256, 8, 8, 8]               0               0\n",
      "    _DenseBlock-15       [1, 1024, 8, 8, 8]       4,607,232       4,607,232\n",
      "    BatchNorm3d-16       [1, 1024, 8, 8, 8]           2,048           2,048\n",
      "           ReLU-17       [1, 1024, 8, 8, 8]               0               0\n",
      "         Conv3d-18        [1, 512, 8, 8, 8]         524,288         524,288\n",
      "      AvgPool3d-19        [1, 512, 4, 4, 4]               0               0\n",
      "    _DenseBlock-20       [1, 1024, 4, 4, 4]       3,337,728       3,337,728\n",
      "    BatchNorm3d-21       [1, 1024, 4, 4, 4]           2,048           2,048\n",
      "         Linear-22                   [1, 1]           1,025           1,025\n",
      "============================================================================\n",
      "Total params: 11,243,649\n",
      "Trainable params: 11,243,649\n",
      "Non-trainable params: 0\n",
      "----------------------------------------------------------------------------\n"
     ]
    }
   ],
   "source": [
    "print(summary(dnet, rand_tensor))"
   ]
  }
 ],
 "metadata": {
  "kernelspec": {
   "display_name": "Python 3 (ipykernel)",
   "language": "python",
   "name": "python3"
  },
  "language_info": {
   "codemirror_mode": {
    "name": "ipython",
    "version": 3
   },
   "file_extension": ".py",
   "mimetype": "text/x-python",
   "name": "python",
   "nbconvert_exporter": "python",
   "pygments_lexer": "ipython3",
   "version": "3.7.6"
  }
 },
 "nbformat": 4,
 "nbformat_minor": 5
}
